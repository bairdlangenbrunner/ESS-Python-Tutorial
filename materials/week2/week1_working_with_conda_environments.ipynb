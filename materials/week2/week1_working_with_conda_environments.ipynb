{
 "cells": [
  {
   "cell_type": "markdown",
   "metadata": {},
   "source": [
    "# Conda environments\n",
    "\n",
    "With conda, you can have different python environments installed into your computer, in case there are some incompatibilities between different python packages you are using. \n",
    "\n",
    "For example, there is a python package, UVCDAT that is useful for analyzing and plotting geophysical data. Although there is a Python-3 version of the newest version, there are plotting issues on Jupyter. Therefore, you would need a new environment to run python commands that call UVCDAT libraries. \n",
    "\n",
    "Let's get started...\n"
   ]
  },
  {
   "cell_type": "markdown",
   "metadata": {},
   "source": [
    "# Activating your environment\n",
    "\n",
    "`source activate EnvironmentName`"
   ]
  },
  {
   "cell_type": "markdown",
   "metadata": {},
   "source": [
    "# Inquiring your environment and installed environments\n",
    "\n",
    "\n",
    "`conda env list` - lists the current installed environments.\n",
    "\n",
    "`conda list` - lists the packages that are installed with the currently activated conda environment."
   ]
  },
  {
   "cell_type": "markdown",
   "metadata": {},
   "source": [
    "# Installing packages and environments\n",
    "\n",
    "`conda install cartopy` - installs cartopy into current environment - you can replace cartopy with other package names\n",
    "`conda create -n ENVT_NAME uvcdat -c conda-forge -c uvcdat` - creates and installs a new environment for UVCDAT\n",
    "`conda create --name py35 python=3.5` - creates a "
   ]
  },
  {
   "cell_type": "markdown",
   "metadata": {},
   "source": [
    "# A nice quick cheat sheet\n",
    "https://conda.io/docs/_downloads/conda-cheatsheet.pdf"
   ]
  }
 ],
 "metadata": {
  "kernelspec": {
   "display_name": "Python 3",
   "language": "python",
   "name": "python3"
  },
  "language_info": {
   "codemirror_mode": {
    "name": "ipython",
    "version": 3
   },
   "file_extension": ".py",
   "mimetype": "text/x-python",
   "name": "python",
   "nbconvert_exporter": "python",
   "pygments_lexer": "ipython3",
   "version": "3.7.0"
  }
 },
 "nbformat": 4,
 "nbformat_minor": 2
}
