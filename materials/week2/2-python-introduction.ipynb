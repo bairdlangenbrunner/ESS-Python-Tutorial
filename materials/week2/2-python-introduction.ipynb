{
 "cells": [
  {
   "cell_type": "markdown",
   "metadata": {},
   "source": [
    "# Jupyter Notebook\n",
    "\n",
    "* See the notebook intro from week 2 [here](https://github.com/bairdlangenbrunner/ESS-Python-Tutorial/blob/master/materials/week2/1-jupyter-notebook-intro.ipynb).\n",
    "* You can shut a notebook down by closing browser windows and, from the terminal shell, typing ```ctrl``` + ```c``` twice.\n",
    "\n",
    "# Quick Python introduction\n",
    "\n",
    "The [official Python tutorial](https://docs.python.org/3/tutorial/) is very informative, and most of the info below follows it, more or less..."
   ]
  },
  {
   "cell_type": "code",
   "execution_count": 1,
   "metadata": {
    "ExecuteTime": {
     "end_time": "2018-03-07T20:14:29.332334Z",
     "start_time": "2018-03-07T20:14:29.320171Z"
    }
   },
   "outputs": [
    {
     "data": {
      "text/plain": [
       "4"
      ]
     },
     "execution_count": 1,
     "metadata": {},
     "output_type": "execute_result"
    }
   ],
   "source": [
    "2+2"
   ]
  },
  {
   "cell_type": "code",
   "execution_count": 2,
   "metadata": {
    "ExecuteTime": {
     "end_time": "2018-03-07T20:14:29.513937Z",
     "start_time": "2018-03-07T20:14:29.508400Z"
    }
   },
   "outputs": [
    {
     "data": {
      "text/plain": [
       "10.0"
      ]
     },
     "execution_count": 2,
     "metadata": {},
     "output_type": "execute_result"
    }
   ],
   "source": [
    "(70 - (5*6)) / 4"
   ]
  },
  {
   "cell_type": "markdown",
   "metadata": {},
   "source": [
    "## Floats versus integers\n",
    "\n",
    "Python is a high-level language, and there are **no variable declarations** (Python does this implicitly).\n",
    "\n",
    "* Numbers like ```2``` and ```4``` are interpreted as type **```int```**, and numbers with decimals (```62.5```, ```10.0```) are type **```float```**.\n",
    "* Division **``` / ```** always returns a floating point number\n",
    "* Get the type of a number or Python object using ```type()```"
   ]
  },
  {
   "cell_type": "code",
   "execution_count": 3,
   "metadata": {
    "ExecuteTime": {
     "end_time": "2018-03-07T20:14:29.829473Z",
     "start_time": "2018-03-07T20:14:29.824208Z"
    }
   },
   "outputs": [
    {
     "data": {
      "text/plain": [
       "1.0"
      ]
     },
     "execution_count": 3,
     "metadata": {},
     "output_type": "execute_result"
    }
   ],
   "source": [
    "2/2"
   ]
  },
  {
   "cell_type": "code",
   "execution_count": 4,
   "metadata": {
    "ExecuteTime": {
     "end_time": "2018-03-07T20:14:29.994935Z",
     "start_time": "2018-03-07T20:14:29.989872Z"
    }
   },
   "outputs": [
    {
     "data": {
      "text/plain": [
       "float"
      ]
     },
     "execution_count": 4,
     "metadata": {},
     "output_type": "execute_result"
    }
   ],
   "source": [
    "type(2/2)"
   ]
  },
  {
   "cell_type": "code",
   "execution_count": 5,
   "metadata": {
    "ExecuteTime": {
     "end_time": "2018-03-07T20:14:30.147266Z",
     "start_time": "2018-03-07T20:14:30.141789Z"
    }
   },
   "outputs": [
    {
     "data": {
      "text/plain": [
       "2.0"
      ]
     },
     "execution_count": 5,
     "metadata": {},
     "output_type": "execute_result"
    }
   ],
   "source": [
    "2/1"
   ]
  },
  {
   "cell_type": "markdown",
   "metadata": {},
   "source": [
    "## Powers in Python\n",
    "\n",
    "To raise something to a power, use a double asterisk:  __```**```__\n",
    "\n",
    "To ensure your numbers are interpreted as **```float```** types, good practice is to always use decimals in at least one number:"
   ]
  },
  {
   "cell_type": "code",
   "execution_count": 6,
   "metadata": {
    "ExecuteTime": {
     "end_time": "2018-03-07T20:14:30.449414Z",
     "start_time": "2018-03-07T20:14:30.444986Z"
    }
   },
   "outputs": [
    {
     "data": {
      "text/plain": [
       "25"
      ]
     },
     "execution_count": 6,
     "metadata": {},
     "output_type": "execute_result"
    }
   ],
   "source": [
    "5**2"
   ]
  },
  {
   "cell_type": "code",
   "execution_count": 7,
   "metadata": {
    "ExecuteTime": {
     "end_time": "2018-03-07T20:14:30.595681Z",
     "start_time": "2018-03-07T20:14:30.590975Z"
    }
   },
   "outputs": [
    {
     "data": {
      "text/plain": [
       "25.0"
      ]
     },
     "execution_count": 7,
     "metadata": {},
     "output_type": "execute_result"
    }
   ],
   "source": [
    "5**2.0"
   ]
  },
  {
   "cell_type": "code",
   "execution_count": 8,
   "metadata": {
    "ExecuteTime": {
     "end_time": "2018-03-07T20:14:30.755148Z",
     "start_time": "2018-03-07T20:14:30.750476Z"
    }
   },
   "outputs": [
    {
     "data": {
      "text/plain": [
       "25.0"
      ]
     },
     "execution_count": 8,
     "metadata": {},
     "output_type": "execute_result"
    }
   ],
   "source": [
    "5.**2"
   ]
  },
  {
   "cell_type": "markdown",
   "metadata": {},
   "source": [
    "## Assigning and printing\n",
    "\n",
    "* Assign variables using the ```=``` sign\n",
    "\n",
    "* Print variables using the ```print()``` function"
   ]
  },
  {
   "cell_type": "code",
   "execution_count": 9,
   "metadata": {
    "ExecuteTime": {
     "end_time": "2018-03-07T20:14:31.042486Z",
     "start_time": "2018-03-07T20:14:31.035861Z"
    }
   },
   "outputs": [
    {
     "name": "stdout",
     "output_type": "stream",
     "text": [
      "35.0\n"
     ]
    }
   ],
   "source": [
    "width = 5.0\n",
    "height = 7.0\n",
    "area = width*height\n",
    "print(area)"
   ]
  },
  {
   "cell_type": "markdown",
   "metadata": {},
   "source": [
    "Note that Python supports very compact, __in-place__ variable manipulation, allowing for ```+=```, ```-=```, ```*=```, and ```/=```"
   ]
  },
  {
   "cell_type": "markdown",
   "metadata": {},
   "source": [
    "## ==========> NOW YOU TRY <==========\n",
    "* Switch between lines 6 and 7 below and mess around with the compact addition, subtraction, multiplication, and division notation\n",
    "* __NOTE:__ Python commends are preceded by the ```#``` sign, or you can enclose text ```'''between three quotes'''```"
   ]
  },
  {
   "cell_type": "code",
   "execution_count": 10,
   "metadata": {
    "ExecuteTime": {
     "end_time": "2018-03-07T20:14:31.541488Z",
     "start_time": "2018-03-07T20:14:31.536425Z"
    }
   },
   "outputs": [
    {
     "name": "stdout",
     "output_type": "stream",
     "text": [
      "10.0\n"
     ]
    }
   ],
   "source": [
    "# comment\n",
    "\"\"\" also a comment \"\"\"\n",
    "''' also ALSO a comment '''\n",
    "\n",
    "width = 5.0\n",
    "width = width+5\n",
    "#width += 5\n",
    "print(width)"
   ]
  },
  {
   "cell_type": "markdown",
   "metadata": {},
   "source": [
    "## Strings\n",
    "\n",
    "Variables can also be assigned as strings when you enclose them in quotes.  __You can use single OR double quotes.__"
   ]
  },
  {
   "cell_type": "code",
   "execution_count": 11,
   "metadata": {
    "ExecuteTime": {
     "end_time": "2018-03-07T20:14:31.830807Z",
     "start_time": "2018-03-07T20:14:31.827360Z"
    }
   },
   "outputs": [
    {
     "name": "stdout",
     "output_type": "stream",
     "text": [
      "pants\n"
     ]
    }
   ],
   "source": [
    "string1 = 'pants'\n",
    "print(string1)"
   ]
  },
  {
   "cell_type": "markdown",
   "metadata": {},
   "source": [
    "Multiplying and adding strings repeats them..."
   ]
  },
  {
   "cell_type": "code",
   "execution_count": 12,
   "metadata": {
    "ExecuteTime": {
     "end_time": "2018-03-07T20:14:32.145842Z",
     "start_time": "2018-03-07T20:14:32.141923Z"
    }
   },
   "outputs": [
    {
     "name": "stdout",
     "output_type": "stream",
     "text": [
      "pantspantspants\n",
      "pantspantspants\n"
     ]
    }
   ],
   "source": [
    "print(string1*3)\n",
    "print(string1+string1+string1)"
   ]
  },
  {
   "cell_type": "markdown",
   "metadata": {},
   "source": [
    "* Strings can also be indexed\n",
    "* __NOTE:  Python has zero indexing__"
   ]
  },
  {
   "cell_type": "code",
   "execution_count": 13,
   "metadata": {
    "ExecuteTime": {
     "end_time": "2018-03-07T20:14:32.463506Z",
     "start_time": "2018-03-07T20:14:32.457850Z"
    }
   },
   "outputs": [
    {
     "data": {
      "text/plain": [
       "'p'"
      ]
     },
     "execution_count": 13,
     "metadata": {},
     "output_type": "execute_result"
    }
   ],
   "source": [
    "string1[0]"
   ]
  },
  {
   "cell_type": "code",
   "execution_count": 14,
   "metadata": {
    "ExecuteTime": {
     "end_time": "2018-03-07T20:14:32.631146Z",
     "start_time": "2018-03-07T20:14:32.626530Z"
    }
   },
   "outputs": [
    {
     "data": {
      "text/plain": [
       "'a'"
      ]
     },
     "execution_count": 14,
     "metadata": {},
     "output_type": "execute_result"
    }
   ],
   "source": [
    "string1[1]"
   ]
  },
  {
   "cell_type": "markdown",
   "metadata": {},
   "source": [
    "You can also index backwards in Python:  index ```-1``` is the last one:"
   ]
  },
  {
   "cell_type": "code",
   "execution_count": 15,
   "metadata": {
    "ExecuteTime": {
     "end_time": "2018-03-07T20:14:32.945600Z",
     "start_time": "2018-03-07T20:14:32.940197Z"
    }
   },
   "outputs": [
    {
     "data": {
      "text/plain": [
       "'s'"
      ]
     },
     "execution_count": 15,
     "metadata": {},
     "output_type": "execute_result"
    }
   ],
   "source": [
    "string1[-1]"
   ]
  },
  {
   "cell_type": "code",
   "execution_count": 16,
   "metadata": {
    "ExecuteTime": {
     "end_time": "2018-03-07T20:14:33.106005Z",
     "start_time": "2018-03-07T20:14:33.101560Z"
    }
   },
   "outputs": [
    {
     "data": {
      "text/plain": [
       "'n'"
      ]
     },
     "execution_count": 16,
     "metadata": {},
     "output_type": "execute_result"
    }
   ],
   "source": [
    "string1[-3]"
   ]
  },
  {
   "cell_type": "markdown",
   "metadata": {},
   "source": [
    "## Lists\n",
    "\n",
    "* This is a versatile way of creating compound data types\n",
    "* Indexing works in a similar way as above\n",
    "* Create a list by enclosing comma-separated items in square brackets"
   ]
  },
  {
   "cell_type": "code",
   "execution_count": 17,
   "metadata": {
    "ExecuteTime": {
     "end_time": "2018-03-07T20:14:33.418838Z",
     "start_time": "2018-03-07T20:14:33.416385Z"
    }
   },
   "outputs": [],
   "source": [
    "empty_list = []"
   ]
  },
  {
   "cell_type": "code",
   "execution_count": 18,
   "metadata": {
    "ExecuteTime": {
     "end_time": "2018-03-07T20:14:33.567701Z",
     "start_time": "2018-03-07T20:14:33.563669Z"
    }
   },
   "outputs": [],
   "source": [
    "list1 = [0,1,2,3,4,5,6,7,8,9]"
   ]
  },
  {
   "cell_type": "code",
   "execution_count": 19,
   "metadata": {
    "ExecuteTime": {
     "end_time": "2018-03-07T20:14:33.729147Z",
     "start_time": "2018-03-07T20:14:33.724502Z"
    }
   },
   "outputs": [
    {
     "name": "stdout",
     "output_type": "stream",
     "text": [
      "[]\n",
      "[0, 1, 2, 3, 4, 5, 6, 7, 8, 9]\n"
     ]
    }
   ],
   "source": [
    "print(empty_list)\n",
    "print(list1)"
   ]
  },
  {
   "cell_type": "code",
   "execution_count": 20,
   "metadata": {
    "ExecuteTime": {
     "end_time": "2018-03-07T20:14:33.867807Z",
     "start_time": "2018-03-07T20:14:33.864933Z"
    }
   },
   "outputs": [
    {
     "name": "stdout",
     "output_type": "stream",
     "text": [
      "0\n"
     ]
    }
   ],
   "source": [
    "print(list1[0])"
   ]
  },
  {
   "cell_type": "code",
   "execution_count": 21,
   "metadata": {
    "ExecuteTime": {
     "end_time": "2018-03-07T20:14:34.029822Z",
     "start_time": "2018-03-07T20:14:34.024214Z"
    }
   },
   "outputs": [
    {
     "name": "stdout",
     "output_type": "stream",
     "text": [
      "7\n"
     ]
    }
   ],
   "source": [
    "print(list1[-3])"
   ]
  },
  {
   "cell_type": "markdown",
   "metadata": {},
   "source": [
    "### Slicing lists\n",
    "\n",
    "Slicing operations return new lists."
   ]
  },
  {
   "cell_type": "code",
   "execution_count": 22,
   "metadata": {
    "ExecuteTime": {
     "end_time": "2018-03-07T20:14:34.346691Z",
     "start_time": "2018-03-07T20:14:34.340866Z"
    }
   },
   "outputs": [
    {
     "data": {
      "text/plain": [
       "[3, 4, 5, 6, 7, 8, 9]"
      ]
     },
     "execution_count": 22,
     "metadata": {},
     "output_type": "execute_result"
    }
   ],
   "source": [
    "list1[3:] # note index 3 is the FOURTH element, since indexing starts at zero"
   ]
  },
  {
   "cell_type": "markdown",
   "metadata": {},
   "source": [
    "### Appending to lists\n",
    "\n",
    "Add to the end of a list by using the ```append()``` method.\n",
    "\n",
    "__Note ```list1``` is an \"object\" in python and has methods that can be accessed via the ```.``` syntax__"
   ]
  },
  {
   "cell_type": "code",
   "execution_count": 23,
   "metadata": {
    "ExecuteTime": {
     "end_time": "2018-03-07T20:14:34.644895Z",
     "start_time": "2018-03-07T20:14:34.641169Z"
    }
   },
   "outputs": [],
   "source": [
    "list1.append(234)"
   ]
  },
  {
   "cell_type": "code",
   "execution_count": 24,
   "metadata": {
    "ExecuteTime": {
     "end_time": "2018-03-07T20:14:34.804048Z",
     "start_time": "2018-03-07T20:14:34.800952Z"
    }
   },
   "outputs": [
    {
     "name": "stdout",
     "output_type": "stream",
     "text": [
      "[0, 1, 2, 3, 4, 5, 6, 7, 8, 9, 234]\n"
     ]
    }
   ],
   "source": [
    "print(list1)"
   ]
  },
  {
   "cell_type": "markdown",
   "metadata": {},
   "source": [
    "### Assigning and replacing list values\n",
    "\n",
    "* You can also assign specific values, or do this to slices\n",
    "* Lists can contain mixed data types"
   ]
  },
  {
   "cell_type": "code",
   "execution_count": 25,
   "metadata": {
    "ExecuteTime": {
     "end_time": "2018-03-07T20:14:35.118791Z",
     "start_time": "2018-03-07T20:14:35.114739Z"
    }
   },
   "outputs": [
    {
     "name": "stdout",
     "output_type": "stream",
     "text": [
      "['a', 'b', 'c', 'd', 'e', 'f', 'g']\n"
     ]
    }
   ],
   "source": [
    "list2 = ['a', 'b', 'c', 'd', 'e', 'f', 'g']\n",
    "print(list2)"
   ]
  },
  {
   "cell_type": "code",
   "execution_count": 26,
   "metadata": {
    "ExecuteTime": {
     "end_time": "2018-03-07T20:14:35.263211Z",
     "start_time": "2018-03-07T20:14:35.259657Z"
    }
   },
   "outputs": [
    {
     "name": "stdout",
     "output_type": "stream",
     "text": [
      "[17, 18, 'c', 'd', 'e', 'f', 'g']\n"
     ]
    }
   ],
   "source": [
    "list2[0:2] = 17,18\n",
    "print(list2)"
   ]
  },
  {
   "cell_type": "markdown",
   "metadata": {},
   "source": [
    "## ==========> NOW YOU TRY <==========\n",
    "* Replace the zeroth position of ```list1``` with your first name (as a ```'string'```)\n",
    "* Append your last name to the end of ```list1```"
   ]
  },
  {
   "cell_type": "code",
   "execution_count": null,
   "metadata": {},
   "outputs": [],
   "source": []
  },
  {
   "cell_type": "markdown",
   "metadata": {},
   "source": [
    "* You can \"pop\" an element out of a list, as well, by specifying its index\n",
    "* Now delete your first name from the list by using ```list1.pop(index)```"
   ]
  },
  {
   "cell_type": "code",
   "execution_count": null,
   "metadata": {
    "ExecuteTime": {
     "end_time": "2018-03-07T16:09:59.816922Z",
     "start_time": "2018-03-07T16:09:59.811880Z"
    }
   },
   "outputs": [],
   "source": []
  },
  {
   "cell_type": "markdown",
   "metadata": {},
   "source": [
    "### Getting the length of a list\n",
    "\n",
    "Use the ```len()``` function to get the length of a list."
   ]
  },
  {
   "cell_type": "code",
   "execution_count": 27,
   "metadata": {
    "ExecuteTime": {
     "end_time": "2018-03-07T20:14:36.267216Z",
     "start_time": "2018-03-07T20:14:36.262878Z"
    }
   },
   "outputs": [
    {
     "data": {
      "text/plain": [
       "11"
      ]
     },
     "execution_count": 27,
     "metadata": {},
     "output_type": "execute_result"
    }
   ],
   "source": [
    "len(list1)"
   ]
  },
  {
   "cell_type": "code",
   "execution_count": 28,
   "metadata": {
    "ExecuteTime": {
     "end_time": "2018-03-07T20:14:36.429667Z",
     "start_time": "2018-03-07T20:14:36.424245Z"
    }
   },
   "outputs": [
    {
     "data": {
      "text/plain": [
       "7"
      ]
     },
     "execution_count": 28,
     "metadata": {},
     "output_type": "execute_result"
    }
   ],
   "source": [
    "len(list2)"
   ]
  },
  {
   "cell_type": "markdown",
   "metadata": {},
   "source": [
    "### The ```range()```  and ```list()``` functions\n",
    "\n",
    "* **```range()```** is a function that creates an *internal* list (i.e., an [iterator](https://wiki.python.org/moin/Iterator) of numbers)\n",
    "\n",
    "* ```range(N)``` will go FROM ```0``` TO ```N-1``` and will have exactly ```N``` elements"
   ]
  },
  {
   "cell_type": "code",
   "execution_count": 29,
   "metadata": {
    "ExecuteTime": {
     "end_time": "2018-03-07T20:14:36.747871Z",
     "start_time": "2018-03-07T20:14:36.744351Z"
    }
   },
   "outputs": [
    {
     "name": "stdout",
     "output_type": "stream",
     "text": [
      "range(0, 5)\n",
      "<class 'range'>\n"
     ]
    }
   ],
   "source": [
    "print(range(5)) # goes from 0 to 4 inclusive\n",
    "print(type(range(5)))"
   ]
  },
  {
   "cell_type": "markdown",
   "metadata": {},
   "source": [
    "* Note it returns a range iterator object\n",
    "* You can convert this into a Python list by using the **```list()```** function:"
   ]
  },
  {
   "cell_type": "code",
   "execution_count": 30,
   "metadata": {
    "ExecuteTime": {
     "end_time": "2018-03-07T20:14:37.088640Z",
     "start_time": "2018-03-07T20:14:37.084284Z"
    }
   },
   "outputs": [
    {
     "data": {
      "text/plain": [
       "[0, 1, 2, 3, 4]"
      ]
     },
     "execution_count": 30,
     "metadata": {},
     "output_type": "execute_result"
    }
   ],
   "source": [
    "list(range(5))"
   ]
  },
  {
   "cell_type": "markdown",
   "metadata": {},
   "source": [
    "The **```range()```** function takes at most 3 arguments:  start, stop, and interval."
   ]
  },
  {
   "cell_type": "code",
   "execution_count": 31,
   "metadata": {
    "ExecuteTime": {
     "end_time": "2018-03-07T20:14:37.412456Z",
     "start_time": "2018-03-07T20:14:37.407497Z"
    }
   },
   "outputs": [
    {
     "data": {
      "text/plain": [
       "[2, 3, 4]"
      ]
     },
     "execution_count": 31,
     "metadata": {},
     "output_type": "execute_result"
    }
   ],
   "source": [
    "list(range(2,5)) # start, stop"
   ]
  },
  {
   "cell_type": "markdown",
   "metadata": {},
   "source": [
    "## ==========> Question:  Why does the output below not include 50? <=========="
   ]
  },
  {
   "cell_type": "code",
   "execution_count": 32,
   "metadata": {
    "ExecuteTime": {
     "end_time": "2018-03-07T20:14:37.731306Z",
     "start_time": "2018-03-07T20:14:37.725215Z"
    }
   },
   "outputs": [
    {
     "data": {
      "text/plain": [
       "[0, 5, 10, 15, 20, 25, 30, 35, 40, 45]"
      ]
     },
     "execution_count": 32,
     "metadata": {},
     "output_type": "execute_result"
    }
   ],
   "source": [
    "list(range(0,50,5)) # start, stop, interval\n",
    "\n",
    "#list(range(0,51,5))"
   ]
  },
  {
   "cell_type": "markdown",
   "metadata": {},
   "source": [
    "## For loops\n",
    "\n",
    "* Python does not require ```end``` statements or semicolons.  Instead, the use of spacing in the loops implicitly tells python where they begin and end.  Manually insert (4) spaces (or use a ```tab``` on the keyboard) to struture a loop\n",
    "\n",
    "* All output in Python is suppressed automatically, unless you choose to ```print()``` it.  This means you don't need semicolons at the end of lines, and you'll get an error if you do.\n",
    "\n",
    "* Loops can begin with **```for```** and **```while```**.  Other statements, such as **```else```**, **```if```**, and **```elif```** also exist.  Note **```elif```** and **```else if```** are equivalent and both acceptable.\n",
    "\n",
    "* Note **```range()```** can be used in combination with the **```len()```** or other functions to make looping more streamlined\n",
    "\n",
    "* Information on all statements useful in loops can be found there, including\n",
    "**```if```**, **```for```**, **```break```**, **```continue```**, **```pass```**, and more"
   ]
  },
  {
   "cell_type": "code",
   "execution_count": 33,
   "metadata": {
    "ExecuteTime": {
     "end_time": "2018-03-07T20:14:38.055241Z",
     "start_time": "2018-03-07T20:14:38.051392Z"
    }
   },
   "outputs": [],
   "source": [
    "weekdays = ['Monday','Tuesday','Wednesday','Thursday','Friday','Saturday','Sunday']"
   ]
  },
  {
   "cell_type": "code",
   "execution_count": 34,
   "metadata": {
    "ExecuteTime": {
     "end_time": "2018-03-07T20:14:38.230673Z",
     "start_time": "2018-03-07T20:14:38.226403Z"
    }
   },
   "outputs": [
    {
     "name": "stdout",
     "output_type": "stream",
     "text": [
      "Monday\n",
      "Tuesday\n",
      "Wednesday\n",
      "Thursday\n",
      "Friday\n",
      "Saturday\n",
      "Sunday\n"
     ]
    }
   ],
   "source": [
    "for i in range(7):\n",
    "    print(weekdays[i])"
   ]
  },
  {
   "cell_type": "markdown",
   "metadata": {},
   "source": [
    "* Logicals are straightforward:  ```>```, ```>=```, ```<```, ```<=```, ```==```, ```!=```"
   ]
  },
  {
   "cell_type": "code",
   "execution_count": 35,
   "metadata": {
    "ExecuteTime": {
     "end_time": "2018-03-07T20:14:38.583611Z",
     "start_time": "2018-03-07T20:14:38.578123Z"
    }
   },
   "outputs": [
    {
     "name": "stdout",
     "output_type": "stream",
     "text": [
      "Monday\n",
      "Tuesday\n",
      "Wednesday\n",
      "Thursday\n",
      "   w00t it's Friday\n",
      "Saturday\n",
      "Sunday\n"
     ]
    }
   ],
   "source": [
    "i = 0\n",
    "while i < 7:\n",
    "    if i==4:\n",
    "        print(\"   w00t it's Friday\")\n",
    "    else:\n",
    "        print(weekdays[i])\n",
    "    i += 1"
   ]
  },
  {
   "cell_type": "markdown",
   "metadata": {},
   "source": [
    "* Use ```len(list)``` for looping over indices:"
   ]
  },
  {
   "cell_type": "code",
   "execution_count": 36,
   "metadata": {
    "ExecuteTime": {
     "end_time": "2018-03-07T20:14:38.946394Z",
     "start_time": "2018-03-07T20:14:38.938124Z"
    }
   },
   "outputs": [
    {
     "name": "stdout",
     "output_type": "stream",
     "text": [
      "0 Monday\n",
      "1 Tuesday\n",
      "2 Wednesday\n",
      "3 Thursday\n",
      "4 Friday\n",
      "5 Saturday\n",
      "6 Sunday\n"
     ]
    }
   ],
   "source": [
    "for i in range(len(weekdays)):\n",
    "    print(i, weekdays[i])"
   ]
  },
  {
   "cell_type": "markdown",
   "metadata": {},
   "source": [
    "* You can also simply loop over the list itself:"
   ]
  },
  {
   "cell_type": "code",
   "execution_count": 37,
   "metadata": {
    "ExecuteTime": {
     "end_time": "2018-03-07T20:14:39.363260Z",
     "start_time": "2018-03-07T20:14:39.358790Z"
    }
   },
   "outputs": [
    {
     "name": "stdout",
     "output_type": "stream",
     "text": [
      "Monday\n",
      "Tuesday\n",
      "Wednesday\n",
      "Thursday\n",
      "Friday\n",
      "Saturday\n",
      "Sunday\n"
     ]
    }
   ],
   "source": [
    "for i in weekdays:\n",
    "    print(i)"
   ]
  },
  {
   "cell_type": "markdown",
   "metadata": {},
   "source": [
    "## Defining functions (an example with the Fibonacci series)\n",
    "\n",
    "*image from [Wikipedia](https://en.wikipedia.org/wiki/Fibonacci_number)*\n",
    "\n",
    "![Fibonacci series](https://upload.wikimedia.org/wikipedia/commons/thumb/b/bf/PascalTriangleFibanacci.svg/360px-PascalTriangleFibanacci.svg.png)"
   ]
  },
  {
   "cell_type": "code",
   "execution_count": 38,
   "metadata": {
    "ExecuteTime": {
     "end_time": "2018-03-07T20:14:40.195689Z",
     "start_time": "2018-03-07T20:14:40.190128Z"
    }
   },
   "outputs": [
    {
     "name": "stdout",
     "output_type": "stream",
     "text": [
      "1\n",
      "1\n",
      "2\n",
      "3\n",
      "5\n",
      "8\n"
     ]
    }
   ],
   "source": [
    "a,b = 0,1 # note multiple assignments in one line\n",
    "while b<10:\n",
    "    print(b)\n",
    "    a,b = b,a+b"
   ]
  },
  {
   "cell_type": "code",
   "execution_count": 39,
   "metadata": {
    "ExecuteTime": {
     "end_time": "2018-03-07T20:14:40.583319Z",
     "start_time": "2018-03-07T20:14:40.576274Z"
    }
   },
   "outputs": [
    {
     "name": "stdout",
     "output_type": "stream",
     "text": [
      "0\n",
      "1\n",
      "1\n",
      "2\n",
      "3\n",
      "5\n",
      "8\n",
      "13\n",
      "21\n",
      "34\n",
      "55\n",
      "89\n",
      "144\n",
      "233\n",
      "377\n"
     ]
    }
   ],
   "source": [
    "def fib(n):\n",
    "    \"\"\"\n",
    "    Write a Fibonacci series up to AND INCLUDING integer n.\n",
    "    Note this text is called a docstring.\n",
    "    This is how python functions are documented.\n",
    "    \"\"\" # <----- this is documentation for the function\n",
    "    a,b = 0,1\n",
    "    while a<n+1:\n",
    "        print(a)\n",
    "        a,b = b, a+b\n",
    "fib(500)"
   ]
  },
  {
   "cell_type": "code",
   "execution_count": 40,
   "metadata": {
    "ExecuteTime": {
     "end_time": "2018-03-07T20:14:41.162656Z",
     "start_time": "2018-03-07T20:14:41.122713Z"
    }
   },
   "outputs": [],
   "source": [
    "?fib"
   ]
  },
  {
   "cell_type": "markdown",
   "metadata": {},
   "source": [
    "## ==========> NOW YOU TRY <==========\n",
    "\n",
    "Can you write a function that _returns_ the Fibonacci series in a LIST?  The answer is at the bottom of this notebook"
   ]
  },
  {
   "cell_type": "code",
   "execution_count": null,
   "metadata": {},
   "outputs": [],
   "source": []
  },
  {
   "cell_type": "markdown",
   "metadata": {},
   "source": [
    "* More advanced information on defining functions can be found online at the [tutorial link](https://docs.python.org/3/tutorial/controlflow.html)\n",
    "\n",
    "## The ```lambda``` keyword\n",
    "\n",
    "Finally, the **```lambda```** keyword is very useful when defining functions.  __There's not enough time in this tutorial to go through all the uses of ```lambda```, but it's something you will likely come across when doing more advanced statistical function fitting.__\n",
    "\n",
    "* In short, the **```lambda```** keyword will help you create anonymous functions (i.e., functions not bound to a name)\n",
    "\n",
    "* Note the use of **```return```** here, as well."
   ]
  },
  {
   "cell_type": "code",
   "execution_count": 41,
   "metadata": {
    "ExecuteTime": {
     "end_time": "2018-03-07T20:14:47.328449Z",
     "start_time": "2018-03-07T20:14:47.323361Z"
    }
   },
   "outputs": [],
   "source": [
    "def raise_to_power(n):\n",
    "    \"\"\" This creates a polynomial that raises a number x to the nth power \"\"\"\n",
    "    return lambda x: x**n"
   ]
  },
  {
   "cell_type": "code",
   "execution_count": 42,
   "metadata": {
    "ExecuteTime": {
     "end_time": "2018-03-07T20:14:47.831699Z",
     "start_time": "2018-03-07T20:14:47.828904Z"
    }
   },
   "outputs": [],
   "source": [
    "f = raise_to_power(5)"
   ]
  },
  {
   "cell_type": "code",
   "execution_count": 43,
   "metadata": {
    "ExecuteTime": {
     "end_time": "2018-03-07T20:14:48.446729Z",
     "start_time": "2018-03-07T20:14:48.439320Z"
    }
   },
   "outputs": [
    {
     "data": {
      "text/plain": [
       "0"
      ]
     },
     "execution_count": 43,
     "metadata": {},
     "output_type": "execute_result"
    }
   ],
   "source": [
    "f(0)"
   ]
  },
  {
   "cell_type": "code",
   "execution_count": 44,
   "metadata": {
    "ExecuteTime": {
     "end_time": "2018-03-07T20:14:49.024153Z",
     "start_time": "2018-03-07T20:14:49.019598Z"
    }
   },
   "outputs": [
    {
     "data": {
      "text/plain": [
       "1"
      ]
     },
     "execution_count": 44,
     "metadata": {},
     "output_type": "execute_result"
    }
   ],
   "source": [
    "f(1)"
   ]
  },
  {
   "cell_type": "code",
   "execution_count": 45,
   "metadata": {
    "ExecuteTime": {
     "end_time": "2018-03-07T20:14:49.687558Z",
     "start_time": "2018-03-07T20:14:49.681942Z"
    }
   },
   "outputs": [
    {
     "data": {
      "text/plain": [
       "32"
      ]
     },
     "execution_count": 45,
     "metadata": {},
     "output_type": "execute_result"
    }
   ],
   "source": [
    "f(2)"
   ]
  },
  {
   "cell_type": "markdown",
   "metadata": {},
   "source": [
    "Also note the string after the **```def()```** statement above.  This is a *function annotation*, and anything enclosed in three quotes (**double** or **single**) will not be printed but is useful for multi-line documentation."
   ]
  },
  {
   "cell_type": "markdown",
   "metadata": {},
   "source": [
    "# Common data types in Python\n",
    "\n",
    "See [Data Structures](https://docs.python.org/3/tutorial/datastructures.html) in the official Python documentation for more information\n",
    "\n",
    "* integer ```a=1```\n",
    "\n",
    "* float ```b=1.``` or ```b=1.0```\n",
    "\n",
    "* list ```c=[1,2,3,4]```\n",
    "\n",
    "* tuple ```d=(1,2)```\n",
    "  * Like a list, but can't be changed once it's created\n",
    "\n",
    "* dictionary ```dict1 = {'a':1, 'b':1.0, 'c':[1,2,3,4], 'd':(1,2) }```\n",
    "  * Can store mixed data types\n",
    "  * Unordered set of ```key:value``` pairs"
   ]
  },
  {
   "cell_type": "code",
   "execution_count": 46,
   "metadata": {
    "ExecuteTime": {
     "end_time": "2018-03-07T20:14:52.169960Z",
     "start_time": "2018-03-07T20:14:52.166562Z"
    }
   },
   "outputs": [],
   "source": [
    "dict1 = {'a':1, 'b':1.0, 'c':[1,2,3,4], 2:(1,2)}"
   ]
  },
  {
   "cell_type": "code",
   "execution_count": 47,
   "metadata": {
    "ExecuteTime": {
     "end_time": "2018-03-07T20:14:52.964354Z",
     "start_time": "2018-03-07T20:14:52.959436Z"
    }
   },
   "outputs": [
    {
     "name": "stdout",
     "output_type": "stream",
     "text": [
      "dict_keys(['a', 'b', 'c', 2])\n",
      "[1, 2, 3, 4]\n",
      "(1, 2)\n"
     ]
    }
   ],
   "source": [
    "print(dict1.keys())\n",
    "print(dict1['c'])\n",
    "print(dict1[2])"
   ]
  },
  {
   "cell_type": "markdown",
   "metadata": {},
   "source": [
    "* You can also create an empty dictionary with ```dict1 = {}``` (overwriting the original):"
   ]
  },
  {
   "cell_type": "code",
   "execution_count": 48,
   "metadata": {
    "ExecuteTime": {
     "end_time": "2018-03-07T20:14:54.084808Z",
     "start_time": "2018-03-07T20:14:54.081940Z"
    }
   },
   "outputs": [],
   "source": [
    "dict1 = {}"
   ]
  },
  {
   "cell_type": "markdown",
   "metadata": {},
   "source": [
    "* And then fill it with whatever key you want"
   ]
  },
  {
   "cell_type": "code",
   "execution_count": 49,
   "metadata": {
    "ExecuteTime": {
     "end_time": "2018-03-07T20:14:54.884231Z",
     "start_time": "2018-03-07T20:14:54.880735Z"
    }
   },
   "outputs": [],
   "source": [
    "dict1['a'] = 1e30\n",
    "dict1[5] = 'pants'"
   ]
  },
  {
   "cell_type": "code",
   "execution_count": 50,
   "metadata": {
    "ExecuteTime": {
     "end_time": "2018-03-07T20:14:55.361803Z",
     "start_time": "2018-03-07T20:14:55.355469Z"
    }
   },
   "outputs": [
    {
     "data": {
      "text/plain": [
       "dict_keys(['a', 5])"
      ]
     },
     "execution_count": 50,
     "metadata": {},
     "output_type": "execute_result"
    }
   ],
   "source": [
    "dict1.keys()"
   ]
  },
  {
   "cell_type": "markdown",
   "metadata": {},
   "source": [
    "#### [One possible] answer to Fibonacci series question"
   ]
  },
  {
   "cell_type": "code",
   "execution_count": null,
   "metadata": {},
   "outputs": [],
   "source": [
    "# def fib(n):\n",
    "#     fib_list = []\n",
    "#     a,b = 0,1\n",
    "#     fib_list.append(a)\n",
    "#     while a<n+1:\n",
    "#         a,b = b, a+b\n",
    "#         fib_list.append(a)\n",
    "#     return(fib_list)"
   ]
  }
 ],
 "metadata": {
  "kernelspec": {
   "display_name": "Python 3",
   "language": "python",
   "name": "python3"
  },
  "language_info": {
   "codemirror_mode": {
    "name": "ipython",
    "version": 3
   },
   "file_extension": ".py",
   "mimetype": "text/x-python",
   "name": "python",
   "nbconvert_exporter": "python",
   "pygments_lexer": "ipython3",
   "version": "3.7.1"
  }
 },
 "nbformat": 4,
 "nbformat_minor": 1
}
