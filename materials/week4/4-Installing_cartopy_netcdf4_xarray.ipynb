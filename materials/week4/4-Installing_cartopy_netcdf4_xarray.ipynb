{
 "cells": [
  {
   "cell_type": "markdown",
   "metadata": {},
   "source": [
    "# Install cartopy, netcdf4, xarray (and test them)\n",
    "\n",
    "Next week, we'll use some libraries to open NetCDF files and plot them.  You'll need:  \n",
    "* [cartopy](https://scitools.org.uk/cartopy/docs/latest/)\n",
    "* [xarray](http://xarray.pydata.org/en/stable/)\n",
    "* [netCDF4](http://unidata.github.io/netcdf4-python/)\n",
    "\n",
    "The commands below will install cartopy, netcdf4, and xarray on your system.  Open a terminal shell and execute them one at a time:\n",
    "\n",
    "    conda install -c conda-forge cartopy\n",
    "    conda install netcdf4 xarray\n",
    "\n",
    "Then test if they work.  The cell below should execute successfully:"
   ]
  },
  {
   "cell_type": "code",
   "execution_count": null,
   "metadata": {},
   "outputs": [],
   "source": [
    "import cartopy\n",
    "import netCDF4\n",
    "import xarray"
   ]
  },
  {
   "cell_type": "markdown",
   "metadata": {},
   "source": [
    "*You can also do this from a python session within a terminal shell.*\n",
    "\n",
    "To see if cartopy works, run the following cell:"
   ]
  },
  {
   "cell_type": "code",
   "execution_count": null,
   "metadata": {},
   "outputs": [],
   "source": [
    "import matplotlib.pyplot as plt\n",
    "\n",
    "fig = plt.figure(figsize=(10,5))\n",
    "ax = fig.add_subplot(111, projection=cartopy.crs.PlateCarree())\n",
    "ax.coastlines()"
   ]
  },
  {
   "cell_type": "markdown",
   "metadata": {},
   "source": [
    "To see if NetCDF4 and xarray work, open a precipitation data set:"
   ]
  },
  {
   "cell_type": "code",
   "execution_count": null,
   "metadata": {},
   "outputs": [],
   "source": [
    "ncfile_name = '../data/precip.mon.mean.nc'\n",
    "ncfile_ds = xarray.open_dataset(ncfile_name)\n",
    "ncfile_ds"
   ]
  },
  {
   "cell_type": "code",
   "execution_count": null,
   "metadata": {},
   "outputs": [],
   "source": [
    "ncfile_ds['precip'].sel(time='2018-01-01').plot()"
   ]
  }
 ],
 "metadata": {
  "kernelspec": {
   "display_name": "Python 3",
   "language": "python",
   "name": "python3"
  },
  "language_info": {
   "codemirror_mode": {
    "name": "ipython",
    "version": 3
   },
   "file_extension": ".py",
   "mimetype": "text/x-python",
   "name": "python",
   "nbconvert_exporter": "python",
   "pygments_lexer": "ipython3",
   "version": "3.6.8"
  }
 },
 "nbformat": 4,
 "nbformat_minor": 2
}
