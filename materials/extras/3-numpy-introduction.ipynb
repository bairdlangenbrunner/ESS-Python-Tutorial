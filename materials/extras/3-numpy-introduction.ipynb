{
 "cells": [
  {
   "cell_type": "markdown",
   "metadata": {},
   "source": [
    "# numpy (numerical python)\n",
    "\n",
    "For a more comprehensive introduction to NumPy, see the official tutorial here:  [https://docs.scipy.org/doc/numpy-dev/user/quickstart.html](https://docs.scipy.org/doc/numpy-dev/user/quickstart.html)."
   ]
  },
  {
   "cell_type": "code",
   "execution_count": 1,
   "metadata": {
    "ExecuteTime": {
     "end_time": "2018-12-03T19:28:03.638453Z",
     "start_time": "2018-12-03T19:28:03.198309Z"
    }
   },
   "outputs": [],
   "source": [
    "import numpy"
   ]
  },
  {
   "cell_type": "markdown",
   "metadata": {
    "ExecuteTime": {
     "end_time": "2018-03-07T06:47:36.086207Z",
     "start_time": "2018-03-07T06:47:36.080884Z"
    }
   },
   "source": [
    "* The main object (i.e., data type) in NumPy is the multidimensional array.  In numpy, dimensions are called *axes*.  The **```numpy.array()```** function is how you can create a simple array.  Note that two parentheses that are needed **```(())```** for correct syntax:"
   ]
  },
  {
   "cell_type": "code",
   "execution_count": 2,
   "metadata": {
    "ExecuteTime": {
     "end_time": "2018-12-03T19:28:03.654734Z",
     "start_time": "2018-12-03T19:28:03.643442Z"
    }
   },
   "outputs": [],
   "source": [
    "array1 = numpy.array(( [1,2,3], [4,5,6], [7,8,9] ))\n",
    "array2 = numpy.array([ (1,2), (3,4) ]) # brackets and parentheses both work\n",
    "array3 = numpy.array(( (1,2), (3,4) ))\n",
    "array4 = numpy.array(( 'apple', 'orange', 'banana' )) # they can hold strings too!"
   ]
  },
  {
   "cell_type": "code",
   "execution_count": 3,
   "metadata": {
    "ExecuteTime": {
     "end_time": "2018-12-03T19:28:03.666394Z",
     "start_time": "2018-12-03T19:28:03.657872Z"
    }
   },
   "outputs": [
    {
     "name": "stdout",
     "output_type": "stream",
     "text": [
      "[[1 2 3]\n",
      " [4 5 6]\n",
      " [7 8 9]]\n"
     ]
    }
   ],
   "source": [
    "print(array1)"
   ]
  },
  {
   "cell_type": "markdown",
   "metadata": {},
   "source": [
    "* If your array contains multiple data types, they'll be converted to the same one\n",
    "* Read more about numpy data types (dtypes) [here](https://docs.scipy.org/doc/numpy/reference/arrays.dtypes.html)"
   ]
  },
  {
   "cell_type": "code",
   "execution_count": 4,
   "metadata": {
    "ExecuteTime": {
     "end_time": "2018-12-03T19:28:03.681790Z",
     "start_time": "2018-12-03T19:28:03.670702Z"
    }
   },
   "outputs": [
    {
     "name": "stdout",
     "output_type": "stream",
     "text": [
      "['apple' '7.0']\n",
      "<class 'numpy.str_'>\n"
     ]
    }
   ],
   "source": [
    "array0 = numpy.array(( 'apple', 7.0))\n",
    "print(array0)\n",
    "print(type(array0[1]))"
   ]
  },
  {
   "cell_type": "markdown",
   "metadata": {},
   "source": [
    "## ==========> NOW YOU TRY <==========\n",
    "\n",
    "__... DEBUGGING IN PYTHON:__\n",
    "* A line number is given, which is sometimes helpful.  Toggle lines on/off in the a notebook by typing:   ```esc``` and then ```shift```+```L```\n",
    "* Here, it says ```invalid syntax```, so we've done something wrong... sometimes, the error is a line above the one reported"
   ]
  },
  {
   "cell_type": "code",
   "execution_count": 5,
   "metadata": {
    "ExecuteTime": {
     "end_time": "2018-12-03T19:28:03.703246Z",
     "start_time": "2018-12-03T19:28:03.688605Z"
    }
   },
   "outputs": [
    {
     "name": "stdout",
     "output_type": "stream",
     "text": [
      "[[1 2 3]\n",
      " [4 5 6]\n",
      " [7 8 9]]\n",
      "\n",
      "(3, 3)\n",
      "\n",
      "[[1 2]\n",
      " [3 4]]\n",
      "\n",
      "[[1 2]\n",
      " [3 4]]\n",
      "\n",
      "['apple' 'orange' 'banana']\n"
     ]
    }
   ],
   "source": [
    "print(array1) # print function requires () in Python 3.x\n",
    "print() # print empty line for separator\n",
    "print(array1.shape)\n",
    "print()\n",
    "print(array2)\n",
    "print()\n",
    "print(array3)\n",
    "print()\n",
    "print(array4)"
   ]
  },
  {
   "cell_type": "code",
   "execution_count": 6,
   "metadata": {
    "ExecuteTime": {
     "end_time": "2018-12-03T19:28:03.736126Z",
     "start_time": "2018-12-03T19:28:03.718300Z"
    }
   },
   "outputs": [
    {
     "name": "stdout",
     "output_type": "stream",
     "text": [
      "I had an apple with lunch.\n"
     ]
    }
   ],
   "source": [
    "print(\"I had an \" + array4[0] + \" with lunch.\") # note the print statement accepts a + to concatenate strings"
   ]
  },
  {
   "cell_type": "markdown",
   "metadata": {},
   "source": [
    "## numpy array copying versus assigning"
   ]
  },
  {
   "cell_type": "code",
   "execution_count": 7,
   "metadata": {
    "ExecuteTime": {
     "end_time": "2018-12-03T19:28:03.749843Z",
     "start_time": "2018-12-03T19:28:03.742092Z"
    }
   },
   "outputs": [
    {
     "name": "stdout",
     "output_type": "stream",
     "text": [
      "[[1 2]\n",
      " [3 4]]\n"
     ]
    }
   ],
   "source": [
    "array5 = array3 # assignment:  array3 and array5 are the same array, where python is concerned\n",
    "print(array5)"
   ]
  },
  {
   "cell_type": "code",
   "execution_count": 8,
   "metadata": {
    "ExecuteTime": {
     "end_time": "2018-12-03T19:28:03.764529Z",
     "start_time": "2018-12-03T19:28:03.754646Z"
    }
   },
   "outputs": [
    {
     "name": "stdout",
     "output_type": "stream",
     "text": [
      "[[2 4]\n",
      " [6 8]]\n",
      "[[2 4]\n",
      " [6 8]]\n"
     ]
    }
   ],
   "source": [
    "array5 *= 2 # multiply array5 by 2, in place\n",
    "print(array5)\n",
    "print(array3) # note array3 is the SAME as array5, and changes accordingly"
   ]
  },
  {
   "cell_type": "markdown",
   "metadata": {},
   "source": [
    "* Try to avoid weird array behavior by using either [```numpy.copy()``` or ```numpy.deepcopy()```](https://docs.python.org/2/library/copy.html)"
   ]
  },
  {
   "cell_type": "code",
   "execution_count": 9,
   "metadata": {
    "ExecuteTime": {
     "end_time": "2018-12-03T19:28:03.777566Z",
     "start_time": "2018-12-03T19:28:03.769031Z"
    }
   },
   "outputs": [
    {
     "name": "stdout",
     "output_type": "stream",
     "text": [
      "[[ 4  8]\n",
      " [12 16]]\n",
      "[[2 4]\n",
      " [6 8]]\n"
     ]
    }
   ],
   "source": [
    "# avoid this behavior by using numpy.copy\n",
    "array5 = numpy.copy(array3)\n",
    "array5 *= 2\n",
    "print(array5)\n",
    "print(array3)"
   ]
  },
  {
   "cell_type": "markdown",
   "metadata": {},
   "source": [
    "## Placeholder arrays:  zeros, ones, and empty\n",
    "\n",
    "You can create a large placeholder array to fill in later.  This can be done using **```numpy.zeros()```**, **```numpy.ones()```**, or **```numpy.empty()```**:"
   ]
  },
  {
   "cell_type": "code",
   "execution_count": 10,
   "metadata": {
    "ExecuteTime": {
     "end_time": "2018-12-03T19:28:03.790561Z",
     "start_time": "2018-12-03T19:28:03.781731Z"
    }
   },
   "outputs": [],
   "source": [
    "zeros_array = numpy.zeros((5,5)) # (nrows,ncols)\n",
    "ones_array = numpy.ones((5,5))\n",
    "empty_array = numpy.empty((3,3))"
   ]
  },
  {
   "cell_type": "code",
   "execution_count": 11,
   "metadata": {
    "ExecuteTime": {
     "end_time": "2018-12-03T19:28:03.815481Z",
     "start_time": "2018-12-03T19:28:03.803975Z"
    }
   },
   "outputs": [
    {
     "name": "stdout",
     "output_type": "stream",
     "text": [
      "[[-2.31584178e+077 -2.31584178e+077  4.44659081e-323]\n",
      " [ 0.00000000e+000  0.00000000e+000  1.58817677e-052]\n",
      " [ 5.58051702e-091  2.12677490e+160  5.51368794e+169]]\n"
     ]
    }
   ],
   "source": [
    "print(empty_array)"
   ]
  },
  {
   "cell_type": "markdown",
   "metadata": {},
   "source": [
    "## Means, sums, and dimensions\n",
    "\n",
    "* You can take the mean of an array two different ways:\n",
    "  * ```numpy.mean(ARRAY)```\n",
    "  * ```ARRAY.mean()```\n",
    "* Note it also accepts an ```axis=``` argument; if you don't specify an axis, it flattens the array and takes the mean of everything"
   ]
  },
  {
   "cell_type": "code",
   "execution_count": 12,
   "metadata": {
    "ExecuteTime": {
     "end_time": "2018-12-03T19:28:03.828759Z",
     "start_time": "2018-12-03T19:28:03.820035Z"
    }
   },
   "outputs": [],
   "source": [
    "# create a 5x5 array of random floats between 0 and 1\n",
    "random_array = numpy.random.random((5,5))"
   ]
  },
  {
   "cell_type": "code",
   "execution_count": 13,
   "metadata": {
    "ExecuteTime": {
     "end_time": "2018-12-03T19:28:03.865618Z",
     "start_time": "2018-12-03T19:28:03.835393Z"
    }
   },
   "outputs": [
    {
     "data": {
      "text/plain": [
       "array([0.6494822 , 0.34808687, 0.28934638, 0.63646465, 0.48048548])"
      ]
     },
     "execution_count": 13,
     "metadata": {},
     "output_type": "execute_result"
    }
   ],
   "source": [
    "numpy.mean(random_array, axis=0) # takes mean down columns"
   ]
  },
  {
   "cell_type": "code",
   "execution_count": 14,
   "metadata": {
    "ExecuteTime": {
     "end_time": "2018-12-03T19:28:03.886254Z",
     "start_time": "2018-12-03T19:28:03.872376Z"
    }
   },
   "outputs": [
    {
     "data": {
      "text/plain": [
       "array([0.6494822 , 0.34808687, 0.28934638, 0.63646465, 0.48048548])"
      ]
     },
     "execution_count": 14,
     "metadata": {},
     "output_type": "execute_result"
    }
   ],
   "source": [
    "random_array.mean(axis=0)"
   ]
  },
  {
   "cell_type": "code",
   "execution_count": 15,
   "metadata": {
    "ExecuteTime": {
     "end_time": "2018-12-03T19:28:03.919720Z",
     "start_time": "2018-12-03T19:28:03.897687Z"
    }
   },
   "outputs": [
    {
     "name": "stdout",
     "output_type": "stream",
     "text": [
      "(3, 3)\n",
      "5.0\n",
      "45\n"
     ]
    }
   ],
   "source": [
    "print(array1.shape) # same as numpy.shape(array1)\n",
    "print(array1.mean()) # same as numpy.mean(array1)\n",
    "print(array1.sum()) # same as numpy.sum(array1)"
   ]
  },
  {
   "cell_type": "markdown",
   "metadata": {},
   "source": [
    "## NaNs in numpy\n",
    "* A NaN value in numpy is declared via ```numpy.nan```\n",
    "* There are methods that can handle NaNs: ```numpy.nanmean()```, ```numpy.nansum()```, ```numpy.nanstd()```, ```numpy.nanvar()```, ```numpy.nanmin()```, ```numpy.nanmax()```, etc."
   ]
  },
  {
   "cell_type": "code",
   "execution_count": 16,
   "metadata": {
    "ExecuteTime": {
     "end_time": "2018-12-03T19:28:03.963143Z",
     "start_time": "2018-12-03T19:28:03.927562Z"
    }
   },
   "outputs": [
    {
     "name": "stdout",
     "output_type": "stream",
     "text": [
      "[[0.82327262 0.10757126 0.19283441 0.93368909 0.23257976]\n",
      " [0.35378918 0.45604089 0.04144518 0.80169302 0.7140104 ]\n",
      " [0.86209872 0.90414425 0.22919598 0.01471502 0.64327907]\n",
      " [0.32124036 0.15758073 0.60064235        nan 0.38251263]\n",
      " [0.8870101  0.11509724 0.38261397 0.50675972 0.43004557]]\n"
     ]
    }
   ],
   "source": [
    "random_array[3,3] = numpy.nan\n",
    "print(random_array)"
   ]
  },
  {
   "cell_type": "code",
   "execution_count": 17,
   "metadata": {
    "ExecuteTime": {
     "end_time": "2018-12-03T19:28:04.016047Z",
     "start_time": "2018-12-03T19:28:03.985369Z"
    }
   },
   "outputs": [
    {
     "data": {
      "text/plain": [
       "array([0.6494822 , 0.34808687, 0.28934638,        nan, 0.48048548])"
      ]
     },
     "execution_count": 17,
     "metadata": {},
     "output_type": "execute_result"
    }
   ],
   "source": [
    "numpy.mean(random_array, axis=0)"
   ]
  },
  {
   "cell_type": "code",
   "execution_count": 18,
   "metadata": {
    "ExecuteTime": {
     "end_time": "2018-12-03T19:28:04.032780Z",
     "start_time": "2018-12-03T19:28:04.020380Z"
    }
   },
   "outputs": [
    {
     "data": {
      "text/plain": [
       "array([0.6494822 , 0.34808687, 0.28934638, 0.56421421, 0.48048548])"
      ]
     },
     "execution_count": 18,
     "metadata": {},
     "output_type": "execute_result"
    }
   ],
   "source": [
    "numpy.nanmean(random_array, axis=0)"
   ]
  },
  {
   "cell_type": "markdown",
   "metadata": {},
   "source": [
    "## The ```numpy.arange()``` and ```numpy.linspace``` functions\n",
    "\n",
    "* **```numpy.arange()```** is similar to **```range()```**, but here, a numpy array is returned"
   ]
  },
  {
   "cell_type": "code",
   "execution_count": 19,
   "metadata": {
    "ExecuteTime": {
     "end_time": "2018-12-03T19:28:04.053084Z",
     "start_time": "2018-12-03T19:28:04.039984Z"
    }
   },
   "outputs": [
    {
     "name": "stdout",
     "output_type": "stream",
     "text": [
      "[0 1 2 3 4 5 6 7 8 9]\n",
      "[0.  0.1 0.2 0.3 0.4 0.5 0.6 0.7 0.8 0.9]\n",
      "[0.  0.1 0.2 0.3 0.4 0.5 0.6 0.7 0.8 0.9 1. ]\n"
     ]
    }
   ],
   "source": [
    "print(numpy.arange(10)) # if you enter an integer, it will be of numpy.int data type\n",
    "print(numpy.arange(0, 1, 0.1)) # adding the decimal ensures it is of numpy.float type\n",
    "print(numpy.linspace(0, 1, 11)) # numpy.linspace(start,stop,size)"
   ]
  },
  {
   "cell_type": "markdown",
   "metadata": {},
   "source": [
    "## ==========> NOW YOU TRY <==========\n",
    "\n",
    "* Why does ```numpy.arange(0, 1, 0.1)``` __NOT__ include 1.0 as output?\n",
    "* Fix it to include 1.0 below:"
   ]
  },
  {
   "cell_type": "code",
   "execution_count": 20,
   "metadata": {
    "ExecuteTime": {
     "end_time": "2018-12-03T19:28:04.077663Z",
     "start_time": "2018-12-03T19:28:04.057672Z"
    }
   },
   "outputs": [
    {
     "data": {
      "text/plain": [
       "array([0. , 0.1, 0.2, 0.3, 0.4, 0.5, 0.6, 0.7, 0.8, 0.9])"
      ]
     },
     "execution_count": 20,
     "metadata": {},
     "output_type": "execute_result"
    }
   ],
   "source": [
    "numpy.arange(0, 1, 0.1)"
   ]
  },
  {
   "cell_type": "markdown",
   "metadata": {},
   "source": [
    "# Operations on arrays\n",
    "\n",
    "Basic arithmetic operations on NumPy arrays occur *element-wise*.  "
   ]
  },
  {
   "cell_type": "code",
   "execution_count": 21,
   "metadata": {
    "ExecuteTime": {
     "end_time": "2018-12-03T19:28:04.097853Z",
     "start_time": "2018-12-03T19:28:04.081951Z"
    }
   },
   "outputs": [
    {
     "name": "stdout",
     "output_type": "stream",
     "text": [
      "[[1. 2.]\n",
      " [3. 4.]\n",
      " [5. 6.]]\n"
     ]
    }
   ],
   "source": [
    "A = numpy.array(( [1,2], [3,4], [5,6] ), dtype=float) # dtype=float, int, etc.\n",
    "print(A)"
   ]
  },
  {
   "cell_type": "code",
   "execution_count": 22,
   "metadata": {
    "ExecuteTime": {
     "end_time": "2018-12-03T19:28:04.113960Z",
     "start_time": "2018-12-03T19:28:04.101950Z"
    }
   },
   "outputs": [
    {
     "name": "stdout",
     "output_type": "stream",
     "text": [
      "[[ 7  8]\n",
      " [ 9 10]\n",
      " [11 12]]\n"
     ]
    }
   ],
   "source": [
    "B = numpy.array(( [7,8], [9,10], [11,12] ))\n",
    "print(B)"
   ]
  },
  {
   "cell_type": "code",
   "execution_count": 23,
   "metadata": {
    "ExecuteTime": {
     "end_time": "2018-12-03T19:28:04.142208Z",
     "start_time": "2018-12-03T19:28:04.128480Z"
    }
   },
   "outputs": [
    {
     "name": "stdout",
     "output_type": "stream",
     "text": [
      "[[ 8. 10.]\n",
      " [12. 14.]\n",
      " [16. 18.]]\n",
      "[[-6. -6.]\n",
      " [-6. -6.]\n",
      " [-6. -6.]]\n"
     ]
    }
   ],
   "source": [
    "print(A+B)\n",
    "print(A-B)"
   ]
  },
  {
   "cell_type": "code",
   "execution_count": 24,
   "metadata": {
    "ExecuteTime": {
     "end_time": "2018-12-03T19:28:04.154555Z",
     "start_time": "2018-12-03T19:28:04.146137Z"
    }
   },
   "outputs": [
    {
     "name": "stdout",
     "output_type": "stream",
     "text": [
      "[[ 7. 16.]\n",
      " [27. 40.]\n",
      " [55. 72.]]\n"
     ]
    }
   ],
   "source": [
    "print(A*B) # element-wise mutiplication"
   ]
  },
  {
   "cell_type": "markdown",
   "metadata": {},
   "source": [
    "### Dot products on arrays\n",
    "\n",
    "For the MATLAB users, remember numpy is a bit different when doing \"matrix\" algebra.  Read the [numpy for MATLAB users](https://docs.scipy.org/doc/numpy-dev/user/numpy-for-matlab-users.html) documentation if you're a MATLABer!\n",
    "\n",
    "* Remember from linear algebra:  The product of two matrices (i.e., their dot product) needs to have matching interior dimensions:\n",
    "\n",
    "```[i x j] . [j x k] = [j x k]```\n",
    "\n",
    "* __FYI:__  If you really, _really_ hate arrays, numpy supports 2D matrices (only! 2D) and considers them a subclass of arrays.  Convert an array to a matrix using [```numpy.matrix()```](https://docs.scipy.org/doc/numpy/reference/generated/numpy.matrix.html).\n",
    "\n",
    "## ==========> NOW YOU TRY <==========\n",
    "\n",
    "__Can you solve the error below?__  Hint:  Transpose an array in place using ```array_name.T``` or ```numpy.transpose(array_name)```"
   ]
  },
  {
   "cell_type": "code",
   "execution_count": 25,
   "metadata": {
    "ExecuteTime": {
     "end_time": "2018-12-03T19:28:04.170597Z",
     "start_time": "2018-12-03T19:28:04.159282Z"
    }
   },
   "outputs": [
    {
     "name": "stdout",
     "output_type": "stream",
     "text": [
      "(3, 2)\n",
      "(3, 2)\n",
      "[[ 89.  98.]\n",
      " [116. 128.]]\n"
     ]
    }
   ],
   "source": [
    "print(A.shape)\n",
    "print(B.shape)\n",
    "print(numpy.dot(A.T,B)) # matrix dot product"
   ]
  },
  {
   "cell_type": "markdown",
   "metadata": {},
   "source": [
    "Quick computations of means, sums, min, and max can be computed using either the **```A.function()```** or the **```numpy.function(A)```** notation:"
   ]
  },
  {
   "cell_type": "code",
   "execution_count": 26,
   "metadata": {
    "ExecuteTime": {
     "end_time": "2018-12-03T19:28:04.198315Z",
     "start_time": "2018-12-03T19:28:04.175706Z"
    }
   },
   "outputs": [
    {
     "name": "stdout",
     "output_type": "stream",
     "text": [
      "3.5 21.0 1.0 6.0\n",
      "3.5 21.0 1.0 6.0\n"
     ]
    }
   ],
   "source": [
    "print(A.mean(axis=None), \\\n",
    "      A.sum(), \\\n",
    "      A.min(), \\\n",
    "      A.max())\n",
    "print(numpy.mean(A, axis=None), \\\n",
    "      numpy.sum(A), \\\n",
    "      numpy.min(A), \\\n",
    "      numpy.max(A))"
   ]
  },
  {
   "cell_type": "markdown",
   "metadata": {},
   "source": [
    "### Indexing, slicing, iterating\n",
    "\n",
    "To index a NumPy array, use square brackets **```[i,j]```** for **```[row,column]```**.\n",
    "\n",
    "(Don't forget zero indexing.)"
   ]
  },
  {
   "cell_type": "code",
   "execution_count": 27,
   "metadata": {
    "ExecuteTime": {
     "end_time": "2018-12-03T19:28:04.215678Z",
     "start_time": "2018-12-03T19:28:04.202906Z"
    }
   },
   "outputs": [
    {
     "data": {
      "text/plain": [
       "array([[ 0,  1,  2,  3,  4,  5,  6,  7,  8,  9],\n",
       "       [10, 11, 12, 13, 14, 15, 16, 17, 18, 19],\n",
       "       [20, 21, 22, 23, 24, 25, 26, 27, 28, 29],\n",
       "       [30, 31, 32, 33, 34, 35, 36, 37, 38, 39],\n",
       "       [40, 41, 42, 43, 44, 45, 46, 47, 48, 49],\n",
       "       [50, 51, 52, 53, 54, 55, 56, 57, 58, 59],\n",
       "       [60, 61, 62, 63, 64, 65, 66, 67, 68, 69],\n",
       "       [70, 71, 72, 73, 74, 75, 76, 77, 78, 79],\n",
       "       [80, 81, 82, 83, 84, 85, 86, 87, 88, 89],\n",
       "       [90, 91, 92, 93, 94, 95, 96, 97, 98, 99]])"
      ]
     },
     "execution_count": 27,
     "metadata": {},
     "output_type": "execute_result"
    }
   ],
   "source": [
    "C = numpy.arange(100).reshape((10,10)) # note array is reshaped upon creation\n",
    "C"
   ]
  },
  {
   "cell_type": "markdown",
   "metadata": {},
   "source": [
    "## ==========> NOW YOU TRY <==========\n",
    "\n",
    "What are the ```[i,j]``` indices for the number __5__?  The number __98__?  The number __99__?"
   ]
  },
  {
   "cell_type": "code",
   "execution_count": null,
   "metadata": {},
   "outputs": [],
   "source": []
  },
  {
   "cell_type": "code",
   "execution_count": 28,
   "metadata": {
    "ExecuteTime": {
     "end_time": "2018-12-03T19:28:04.231990Z",
     "start_time": "2018-12-03T19:28:04.221768Z"
    }
   },
   "outputs": [
    {
     "name": "stdout",
     "output_type": "stream",
     "text": [
      "89\n",
      "89\n"
     ]
    }
   ],
   "source": [
    "# example/hint:  find number 89...\n",
    "# it's in the second-to-last row and last column\n",
    "print(C[-2,-1])\n",
    "print(C[8,9])"
   ]
  },
  {
   "cell_type": "markdown",
   "metadata": {},
   "source": [
    "* Printing subsets of an array"
   ]
  },
  {
   "cell_type": "code",
   "execution_count": 29,
   "metadata": {
    "ExecuteTime": {
     "end_time": "2018-12-03T19:28:04.251216Z",
     "start_time": "2018-12-03T19:28:04.235617Z"
    }
   },
   "outputs": [
    {
     "data": {
      "text/plain": [
       "array([[ 0,  1,  2],\n",
       "       [10, 11, 12]])"
      ]
     },
     "execution_count": 29,
     "metadata": {},
     "output_type": "execute_result"
    }
   ],
   "source": [
    "C[:2,:3] # SAME AS BELOW\n",
    "#C[0:2,0:3]\n",
    "#C[[0,1],:][:,[0,1,2]] # list of row indices, then list of column indices"
   ]
  },
  {
   "cell_type": "code",
   "execution_count": 30,
   "metadata": {
    "ExecuteTime": {
     "end_time": "2018-12-03T19:28:04.264009Z",
     "start_time": "2018-12-03T19:28:04.255698Z"
    }
   },
   "outputs": [
    {
     "name": "stdout",
     "output_type": "stream",
     "text": [
      "[ 0  1  2  3  4  5  6  7  8  9 10 11 12 13 14 15 16 17 18 19]\n"
     ]
    }
   ],
   "source": [
    "D = numpy.arange(20)\n",
    "print(D)"
   ]
  },
  {
   "cell_type": "markdown",
   "metadata": {},
   "source": [
    "* Reverse arrays using the **```[::-1]```** syntax:"
   ]
  },
  {
   "cell_type": "code",
   "execution_count": 31,
   "metadata": {
    "ExecuteTime": {
     "end_time": "2018-12-03T19:28:04.285453Z",
     "start_time": "2018-12-03T19:28:04.274412Z"
    }
   },
   "outputs": [
    {
     "data": {
      "text/plain": [
       "array([19, 18, 17, 16, 15, 14, 13, 12, 11, 10,  9,  8,  7,  6,  5,  4,  3,\n",
       "        2,  1,  0])"
      ]
     },
     "execution_count": 31,
     "metadata": {},
     "output_type": "execute_result"
    }
   ],
   "source": [
    "D[::-1]"
   ]
  },
  {
   "cell_type": "markdown",
   "metadata": {},
   "source": [
    "* Skip every nth element sing the **```[::N]```** syntax"
   ]
  },
  {
   "cell_type": "code",
   "execution_count": 32,
   "metadata": {
    "ExecuteTime": {
     "end_time": "2018-12-03T19:28:04.303648Z",
     "start_time": "2018-12-03T19:28:04.291515Z"
    }
   },
   "outputs": [
    {
     "data": {
      "text/plain": [
       "array([ 0,  2,  4,  6,  8, 10, 12, 14, 16, 18])"
      ]
     },
     "execution_count": 32,
     "metadata": {},
     "output_type": "execute_result"
    }
   ],
   "source": [
    "D[::2]"
   ]
  },
  {
   "cell_type": "markdown",
   "metadata": {},
   "source": [
    "* To print every nth element:"
   ]
  },
  {
   "cell_type": "code",
   "execution_count": 33,
   "metadata": {
    "ExecuteTime": {
     "end_time": "2018-12-03T19:28:04.318744Z",
     "start_time": "2018-12-03T19:28:04.308798Z"
    }
   },
   "outputs": [
    {
     "data": {
      "text/plain": [
       "array([ 0,  3,  6,  9, 12, 15])"
      ]
     },
     "execution_count": 33,
     "metadata": {},
     "output_type": "execute_result"
    }
   ],
   "source": [
    "D[0:16:3] # prints first 16 elements, skips by 3"
   ]
  },
  {
   "cell_type": "markdown",
   "metadata": {},
   "source": [
    "### Reshaping versus resizing\n",
    "\n",
    "The **```numpy.reshape()```** function returns a *new* argument with the specified shape.\n",
    "The **```numpy.resize()```** function resizes the array *in place*.\n",
    "\n",
    "Be aware of this difference when flattening or reshaping arrays."
   ]
  },
  {
   "cell_type": "code",
   "execution_count": 34,
   "metadata": {
    "ExecuteTime": {
     "end_time": "2018-12-03T19:28:04.332755Z",
     "start_time": "2018-12-03T19:28:04.322090Z"
    }
   },
   "outputs": [
    {
     "data": {
      "text/plain": [
       "(50,)"
      ]
     },
     "execution_count": 34,
     "metadata": {},
     "output_type": "execute_result"
    }
   ],
   "source": [
    "F = numpy.linspace(0,10,50)\n",
    "F.shape"
   ]
  },
  {
   "cell_type": "code",
   "execution_count": 35,
   "metadata": {
    "ExecuteTime": {
     "end_time": "2018-12-03T19:28:04.346810Z",
     "start_time": "2018-12-03T19:28:04.336465Z"
    }
   },
   "outputs": [
    {
     "data": {
      "text/plain": [
       "array([[ 0.        ,  0.20408163,  0.40816327,  0.6122449 ,  0.81632653],\n",
       "       [ 1.02040816,  1.2244898 ,  1.42857143,  1.63265306,  1.83673469],\n",
       "       [ 2.04081633,  2.24489796,  2.44897959,  2.65306122,  2.85714286],\n",
       "       [ 3.06122449,  3.26530612,  3.46938776,  3.67346939,  3.87755102],\n",
       "       [ 4.08163265,  4.28571429,  4.48979592,  4.69387755,  4.89795918],\n",
       "       [ 5.10204082,  5.30612245,  5.51020408,  5.71428571,  5.91836735],\n",
       "       [ 6.12244898,  6.32653061,  6.53061224,  6.73469388,  6.93877551],\n",
       "       [ 7.14285714,  7.34693878,  7.55102041,  7.75510204,  7.95918367],\n",
       "       [ 8.16326531,  8.36734694,  8.57142857,  8.7755102 ,  8.97959184],\n",
       "       [ 9.18367347,  9.3877551 ,  9.59183673,  9.79591837, 10.        ]])"
      ]
     },
     "execution_count": 35,
     "metadata": {},
     "output_type": "execute_result"
    }
   ],
   "source": [
    "F.reshape(10,5)"
   ]
  },
  {
   "cell_type": "code",
   "execution_count": 36,
   "metadata": {
    "ExecuteTime": {
     "end_time": "2018-12-03T19:28:04.359951Z",
     "start_time": "2018-12-03T19:28:04.351002Z"
    }
   },
   "outputs": [
    {
     "data": {
      "text/plain": [
       "(50,)"
      ]
     },
     "execution_count": 36,
     "metadata": {},
     "output_type": "execute_result"
    }
   ],
   "source": [
    "F.shape # F has not been rewritten!  Shape is still (50,)"
   ]
  },
  {
   "cell_type": "code",
   "execution_count": 37,
   "metadata": {
    "ExecuteTime": {
     "end_time": "2018-12-03T19:28:04.374046Z",
     "start_time": "2018-12-03T19:28:04.364073Z"
    }
   },
   "outputs": [
    {
     "name": "stdout",
     "output_type": "stream",
     "text": [
      "[[ 0.          0.20408163  0.40816327  0.6122449   0.81632653]\n",
      " [ 1.02040816  1.2244898   1.42857143  1.63265306  1.83673469]\n",
      " [ 2.04081633  2.24489796  2.44897959  2.65306122  2.85714286]\n",
      " [ 3.06122449  3.26530612  3.46938776  3.67346939  3.87755102]\n",
      " [ 4.08163265  4.28571429  4.48979592  4.69387755  4.89795918]\n",
      " [ 5.10204082  5.30612245  5.51020408  5.71428571  5.91836735]\n",
      " [ 6.12244898  6.32653061  6.53061224  6.73469388  6.93877551]\n",
      " [ 7.14285714  7.34693878  7.55102041  7.75510204  7.95918367]\n",
      " [ 8.16326531  8.36734694  8.57142857  8.7755102   8.97959184]\n",
      " [ 9.18367347  9.3877551   9.59183673  9.79591837 10.        ]]\n"
     ]
    }
   ],
   "source": [
    "F.resize(10,5)\n",
    "print(F)"
   ]
  },
  {
   "cell_type": "code",
   "execution_count": 38,
   "metadata": {
    "ExecuteTime": {
     "end_time": "2018-12-03T19:28:04.387616Z",
     "start_time": "2018-12-03T19:28:04.378522Z"
    }
   },
   "outputs": [
    {
     "name": "stdout",
     "output_type": "stream",
     "text": [
      "(10, 5)\n",
      "50\n"
     ]
    }
   ],
   "source": [
    "print(F.shape)\n",
    "print(F.size)"
   ]
  }
 ],
 "metadata": {
  "kernelspec": {
   "display_name": "Python 3",
   "language": "python",
   "name": "python3"
  },
  "language_info": {
   "codemirror_mode": {
    "name": "ipython",
    "version": 3
   },
   "file_extension": ".py",
   "mimetype": "text/x-python",
   "name": "python",
   "nbconvert_exporter": "python",
   "pygments_lexer": "ipython3",
   "version": "3.7.1"
  }
 },
 "nbformat": 4,
 "nbformat_minor": 1
}
