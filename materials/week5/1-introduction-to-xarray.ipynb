{
 "cells": [
  {
   "cell_type": "markdown",
   "metadata": {},
   "source": [
    "# Review from last week\n",
    "\n",
    "## Pandas review\n",
    "\n",
    "* Import .txt, .csv, and other tabular data using the ```pandas``` package\n",
    "  * Use the ```pandas.read_csv()``` function\n",
    "* Peer into a pandas DataFrame object using ```.head()``` and ```.describe()```\n",
    "* Use the ```.plot()``` syntax to plot a full data frame or specific parts\n",
    "\n",
    "\n",
    "* Pandas data frames store 2D data (series objects store 1D data)\n",
    "  1. ```columns``` corresponds to column labels, and ```index``` corresponds to row labels\n",
    "  2. Extract a dataframe's column using either ```dataframe.column_name``` or ```dataframe['column_name']```\n",
    "  3. Extract multiple rows using index ranges:  ```dataframe[0:3]``` or ```dataframe[index1_label:index3_label]```\n",
    "* Data frames are quickly manipulated using the object oriented \"dot\" notation, e.g., ```dataframe.mean()``` or ```dataframe.apply(function)```\n",
    "* Data can be sorted and grouped by the values or categories in different columns, e.g., ```dataframe.groupby('column_name')```\n",
    "\n",
    "## Matplotlib review\n",
    "\n",
    "* See the [anatomy of a figure](https://matplotlib.org/tutorials/introductory/usage.html) documentation for more comprehensive info on creating plots\n",
    "\n",
    "* Make a **quick** plot using ```plt.plot(x,y)``` or ```plt.contourf(x,y,z)```\n",
    "\n",
    "\n",
    "* Create a more flexible figure in a few steps:\n",
    "  1. Create the ```fig``` object:  ```fig = plt.figure()```\n",
    "  2. Add axes instances (and panel plots):  ```ax = fig.add_subplot(1,1,1)```\n",
    "  3. Create the actual plot using the plotting methods via the ```Axes``` object:  ```ax.plot()```, ```ax.contourf()```, etc.\n",
    "\n",
    "<img src=\"fig_map.png\"></img>\n",
    "\n",
    "* Use scatter plots or ```matplotlib.mpl_toolkits.mplot3d``` to plot 3D information\n",
    "  * In the case of 3D axes, use a ```projection=``` keyword in ```fig.add_subplot()```\n",
    "\n",
    "# Now:  introduction to xarray\n",
    "\n",
    "* xarray is the higher-dimensional version of pandas\n",
    "* It's ideal for reading and writing NetCDF files, and it interfaces well with parallel programming options within Python\n",
    "\n",
    "This notebook follows the [official xarray documentation](http://xarray.pydata.org/en/stable/examples/quick-overview.html)... sort of."
   ]
  },
  {
   "cell_type": "code",
   "execution_count": 1,
   "metadata": {},
   "outputs": [],
   "source": [
    "import numpy as np\n",
    "import xarray as xr\n",
    "import pandas as pd\n",
    "import matplotlib.pyplot as plt"
   ]
  },
  {
   "cell_type": "markdown",
   "metadata": {},
   "source": [
    "Whereas in pandas we used a **data frame** object, the equivalent for xarray is the **data array** object.\n",
    "\n",
    "## ```DataArray``` objects\n",
    "\n",
    "**Four key properties:**\n",
    "* ```data_array.values``` - *access the data as a numpy array*\n",
    "* ```data_array.dims``` - *get the dimension information*\n",
    "* ```data_array.coords``` - *get the associated coordinates*\n",
    "* ```data_array.attrs``` - *attributes*"
   ]
  },
  {
   "cell_type": "markdown",
   "metadata": {},
   "source": [
    "**Start with Irvine climate (precip, tmin, tmax) data** from [https://www.usclimatedata.com/climate/irvine/california/united-states/usca2494](https://www.usclimatedata.com/climate/irvine/california/united-states/usca2494)"
   ]
  },
  {
   "cell_type": "code",
   "execution_count": 2,
   "metadata": {},
   "outputs": [],
   "source": [
    "month_integers = np.array((1,2,3,4,5,6,7,8,9,10,11,12))\n",
    "month_names = np.array(('January','February','March','April',\n",
    "                        'May','June','July','August','September',\n",
    "                        'October','November','December'))\n",
    "\n",
    "irvine_precip = np.array((69,92,62,22,6,3,1,1,6,17,29,58), dtype=np.float)\n",
    "irvine_tmax = np.array((18.3,18.5,19.2,21.4,22.7,24.7,27.5,28.3,27.2,24.3,20.8,17.9))\n",
    "irvine_tmin = np.array((8.6,8.7,9.3,10.5,13.1,14.8,16.8,17.2,16.2,13.8,10.8,8.2))"
   ]
  },
  {
   "cell_type": "markdown",
   "metadata": {},
   "source": [
    "**Visualize the arrays we made:**"
   ]
  },
  {
   "cell_type": "code",
   "execution_count": 3,
   "metadata": {},
   "outputs": [
    {
     "data": {
      "image/png": "[encoded data removed]",
      "text/plain": [
       "<Figure size 432x288 with 2 Axes>"
      ]
     },
     "metadata": {
      "needs_background": "light"
     },
     "output_type": "display_data"
    }
   ],
   "source": [
    "fig = plt.figure()\n",
    "\n",
    "ax = fig.add_subplot(111)\n",
    "ax.bar(month_integers, irvine_precip, color='0.75')\n",
    "ax.set_ylabel('precipitation (mm)', fontsize=18)\n",
    "\n",
    "ax_temp = ax.twinx()\n",
    "ax_temp.plot(month_integers, irvine_tmax, c='firebrick', label='tmax')\n",
    "ax_temp.plot(month_integers, irvine_tmin, c='dodgerblue', label='tmin')\n",
    "ax_temp.set_ylabel('temperature (deg C)', fontsize=18, rotation=-90, labelpad=25)\n",
    "\n",
    "ax.tick_params(labelsize=18)\n",
    "ax_temp.tick_params(labelsize=18)\n",
    "\n",
    "ax_temp.legend()\n",
    "ax.set_xticks(month_integers);\n",
    "ax.set_xticklabels(['J','F','M','A','M','J','J','A','S','O','N','D']);"
   ]
  },
  {
   "cell_type": "markdown",
   "metadata": {},
   "source": [
    "**Feed the ```irvine_precip``` array directory into a ```DataArray``` structure:**"
   ]
  },
  {
   "cell_type": "code",
   "execution_count": 4,
   "metadata": {},
   "outputs": [
    {
     "name": "stdout",
     "output_type": "stream",
     "text": [
      "<xarray.DataArray (dim_0: 12)>\n",
      "array([69., 92., 62., 22.,  6.,  3.,  1.,  1.,  6., 17., 29., 58.])\n",
      "Dimensions without coordinates: dim_0\n"
     ]
    }
   ],
   "source": [
    "precip_da = xr.DataArray(irvine_precip)\n",
    "print(precip_da)"
   ]
  },
  {
   "cell_type": "markdown",
   "metadata": {},
   "source": [
    "**Last week we learned how to create a pandas ```Series``` object with an index that gives dimensional information:**"
   ]
  },
  {
   "cell_type": "code",
   "execution_count": 5,
   "metadata": {},
   "outputs": [
    {
     "name": "stdout",
     "output_type": "stream",
     "text": [
      "January      69.0\n",
      "February     92.0\n",
      "March        62.0\n",
      "April        22.0\n",
      "May           6.0\n",
      "June          3.0\n",
      "July          1.0\n",
      "August        1.0\n",
      "September     6.0\n",
      "October      17.0\n",
      "November     29.0\n",
      "December     58.0\n",
      "dtype: float64\n"
     ]
    }
   ],
   "source": [
    "precip_series = pd.Series(irvine_precip, index=month_names)\n",
    "print(precip_series)"
   ]
  },
  {
   "cell_type": "markdown",
   "metadata": {},
   "source": [
    "**Convert this series into a xarray DataArray object in one line.  If we don't specify coords or dims, it will make assumptions for us:**"
   ]
  },
  {
   "cell_type": "code",
   "execution_count": 6,
   "metadata": {},
   "outputs": [
    {
     "name": "stdout",
     "output_type": "stream",
     "text": [
      "<xarray.DataArray 'precip' (dim_0: 12)>\n",
      "array([69., 92., 62., 22.,  6.,  3.,  1.,  1.,  6., 17., 29., 58.])\n",
      "Coordinates:\n",
      "  * dim_0    (dim_0) object 'January' 'February' ... 'November' 'December'\n"
     ]
    }
   ],
   "source": [
    "precip_da = xr.DataArray(precip_series, name='precip')\n",
    "print(precip_da)\n",
    "#print(precip_da.values)\n",
    "#print(precip_da.dims)\n",
    "#print(precip_da.coords)"
   ]
  },
  {
   "cell_type": "markdown",
   "metadata": {},
   "source": [
    "**This time, create the DataArray with explicit coordinate and dimension information:**"
   ]
  },
  {
   "cell_type": "code",
   "execution_count": 7,
   "metadata": {},
   "outputs": [
    {
     "name": "stdout",
     "output_type": "stream",
     "text": [
      "<xarray.DataArray 'precip' (month: 12)>\n",
      "array([69., 92., 62., 22.,  6.,  3.,  1.,  1.,  6., 17., 29., 58.])\n",
      "Coordinates:\n",
      "  * month    (month) <U9 'January' 'February' 'March' ... 'November' 'December'\n",
      "Attributes:\n",
      "    units:    mm per month\n"
     ]
    }
   ],
   "source": [
    "precip_da = xr.DataArray(precip_series, name='precip',\n",
    "                         coords={'month':month_names},\n",
    "                         dims=('month'))\n",
    "\n",
    "# add attributes\n",
    "precip_da.attrs = {'units':'mm per month'}\n",
    "\n",
    "print(precip_da)"
   ]
  },
  {
   "cell_type": "markdown",
   "metadata": {},
   "source": [
    "**Indexing with xarray borrows pandas syntax**\n",
    "\n",
    "**1. By coordinate index** using brackets, ```[]```:"
   ]
  },
  {
   "cell_type": "code",
   "execution_count": 8,
   "metadata": {},
   "outputs": [
    {
     "data": {
      "text/plain": [
       "<xarray.DataArray 'precip' (month: 3)>\n",
       "array([58., 69., 92.])\n",
       "Coordinates:\n",
       "  * month    (month) <U9 'December' 'January' 'February'\n",
       "Attributes:\n",
       "    units:    mm per month"
      ]
     },
     "execution_count": 8,
     "metadata": {},
     "output_type": "execute_result"
    }
   ],
   "source": [
    "precip_da[[11,0,1]]"
   ]
  },
  {
   "cell_type": "markdown",
   "metadata": {},
   "source": [
    "**2. By coordinate label** using ```.loc()```:"
   ]
  },
  {
   "cell_type": "code",
   "execution_count": 9,
   "metadata": {},
   "outputs": [
    {
     "data": {
      "text/plain": [
       "<xarray.DataArray 'precip' (month: 3)>\n",
       "array([58., 69., 92.])\n",
       "Coordinates:\n",
       "  * month    (month) <U9 'December' 'January' 'February'\n",
       "Attributes:\n",
       "    units:    mm per month"
      ]
     },
     "execution_count": 9,
     "metadata": {},
     "output_type": "execute_result"
    }
   ],
   "source": [
    "precip_da.loc[['December','January','February']] # pull out DJF"
   ]
  },
  {
   "cell_type": "code",
   "execution_count": 10,
   "metadata": {},
   "outputs": [
    {
     "data": {
      "text/plain": [
       "<xarray.DataArray 'precip' (month: 3)>\n",
       "array([3., 1., 1.])\n",
       "Coordinates:\n",
       "  * month    (month) <U9 'June' 'July' 'August'\n",
       "Attributes:\n",
       "    units:    mm per month"
      ]
     },
     "execution_count": 10,
     "metadata": {},
     "output_type": "execute_result"
    }
   ],
   "source": [
    "precip_da.loc['June':'August'] # pull out JJA"
   ]
  },
  {
   "cell_type": "markdown",
   "metadata": {},
   "source": [
    "**3. By dimension indices** using ```isel()```:"
   ]
  },
  {
   "cell_type": "code",
   "execution_count": 11,
   "metadata": {
    "scrolled": true
   },
   "outputs": [
    {
     "data": {
      "text/plain": [
       "<xarray.DataArray 'precip' (month: 3)>\n",
       "array([3., 1., 1.])\n",
       "Coordinates:\n",
       "  * month    (month) <U9 'June' 'July' 'August'\n",
       "Attributes:\n",
       "    units:    mm per month"
      ]
     },
     "execution_count": 11,
     "metadata": {},
     "output_type": "execute_result"
    }
   ],
   "source": [
    "precip_da.isel(month=slice(5,8))"
   ]
  },
  {
   "cell_type": "markdown",
   "metadata": {},
   "source": [
    "**4. By dimension name and coordinate label** using ```.sel()```:"
   ]
  },
  {
   "cell_type": "code",
   "execution_count": 12,
   "metadata": {},
   "outputs": [
    {
     "data": {
      "text/plain": [
       "<xarray.DataArray 'precip' ()>\n",
       "array(62.)\n",
       "Coordinates:\n",
       "    month    <U9 'March'\n",
       "Attributes:\n",
       "    units:    mm per month"
      ]
     },
     "execution_count": 12,
     "metadata": {},
     "output_type": "execute_result"
    }
   ],
   "source": [
    "precip_da.sel(month='March')"
   ]
  },
  {
   "cell_type": "code",
   "execution_count": 13,
   "metadata": {},
   "outputs": [
    {
     "data": {
      "text/plain": [
       "<xarray.DataArray 'precip' (month: 3)>\n",
       "array([62., 22.,  6.])\n",
       "Coordinates:\n",
       "  * month    (month) <U9 'March' 'April' 'May'\n",
       "Attributes:\n",
       "    units:    mm per month"
      ]
     },
     "execution_count": 13,
     "metadata": {},
     "output_type": "execute_result"
    }
   ],
   "source": [
    "precip_da.sel(month=slice('March','May'))"
   ]
  },
  {
   "cell_type": "markdown",
   "metadata": {},
   "source": [
    "**Take the mean across specific dimensions using pandas-like syntax:**"
   ]
  },
  {
   "cell_type": "code",
   "execution_count": 14,
   "metadata": {},
   "outputs": [
    {
     "data": {
      "text/plain": [
       "<xarray.DataArray 'precip' ()>\n",
       "array(30.5)"
      ]
     },
     "execution_count": 14,
     "metadata": {},
     "output_type": "execute_result"
    }
   ],
   "source": [
    "precip_da.mean(dim='month')"
   ]
  },
  {
   "cell_type": "markdown",
   "metadata": {},
   "source": [
    "**Similarly, create a DataArray of daily max and min temperature**"
   ]
  },
  {
   "cell_type": "code",
   "execution_count": 15,
   "metadata": {},
   "outputs": [],
   "source": [
    "tmin_da = xr.DataArray(irvine_tmin, name='tmin',\n",
    "                       coords={'month':month_names},\n",
    "                       dims=('month'), attrs={'units':'deg C'})\n",
    "\n",
    "tmax_da = xr.DataArray(irvine_tmax, name='tmax',\n",
    "                       coords={'month':month_names},\n",
    "                       dims=('month'), attrs={'units':'deg C'})"
   ]
  },
  {
   "cell_type": "markdown",
   "metadata": {},
   "source": [
    "## ```DataSet``` object\n",
    "\n",
    "This is how xarray stores NetCDF files in memory.  \n",
    "```DataSet``` objects are dictionary-like containers of ```DataArray``` objects\n",
    "\n",
    "Note a **dictionary** in python is something with ```key:value``` pairs enclosed by curly brackets ```{}```:"
   ]
  },
  {
   "cell_type": "code",
   "execution_count": 16,
   "metadata": {},
   "outputs": [
    {
     "name": "stdout",
     "output_type": "stream",
     "text": [
      "95\n"
     ]
    }
   ],
   "source": [
    "example_dict = { 'apple':95, 'banana':105, 'orange':87} # calories in medium piece of fruit\n",
    "\n",
    "# print the value of a given key as:\n",
    "print(example_dict['apple'])"
   ]
  },
  {
   "cell_type": "markdown",
   "metadata": {},
   "source": [
    "**To create an xarray data set, feed in a dictionary of the data arrays.  Note the label in quotes below will be the variable name:**"
   ]
  },
  {
   "cell_type": "code",
   "execution_count": 17,
   "metadata": {},
   "outputs": [],
   "source": [
    "irvine_ds = xr.Dataset({'pr':precip_da,\n",
    "                        'tmin':tmin_da,\n",
    "                        'tmax':tmax_da })"
   ]
  },
  {
   "cell_type": "code",
   "execution_count": 18,
   "metadata": {},
   "outputs": [
    {
     "data": {
      "text/plain": [
       "<xarray.Dataset>\n",
       "Dimensions:  (month: 12)\n",
       "Coordinates:\n",
       "  * month    (month) <U9 'January' 'February' 'March' ... 'November' 'December'\n",
       "Data variables:\n",
       "    pr       (month) float64 69.0 92.0 62.0 22.0 6.0 ... 1.0 6.0 17.0 29.0 58.0\n",
       "    tmin     (month) float64 8.6 8.7 9.3 10.5 13.1 ... 17.2 16.2 13.8 10.8 8.2\n",
       "    tmax     (month) float64 18.3 18.5 19.2 21.4 22.7 ... 27.2 24.3 20.8 17.9"
      ]
     },
     "execution_count": 18,
     "metadata": {},
     "output_type": "execute_result"
    }
   ],
   "source": [
    "irvine_ds"
   ]
  },
  {
   "cell_type": "code",
   "execution_count": 19,
   "metadata": {},
   "outputs": [
    {
     "data": {
      "text/plain": [
       "[<matplotlib.lines.Line2D at 0x31e1ad7f0>]"
      ]
     },
     "execution_count": 19,
     "metadata": {},
     "output_type": "execute_result"
    },
    {
     "data": {
      "image/png": "[encoded data removed]",
      "text/plain": [
       "<Figure size 432x288 with 1 Axes>"
      ]
     },
     "metadata": {
      "needs_background": "light"
     },
     "output_type": "display_data"
    }
   ],
   "source": [
    "plt.plot(month_integers, irvine_ds['tmax'])"
   ]
  },
  {
   "cell_type": "markdown",
   "metadata": {},
   "source": [
    "**Similar operations work on ```DataSet``` objects that worked on pandas ```DataFrame``` objects:**"
   ]
  },
  {
   "cell_type": "code",
   "execution_count": 20,
   "metadata": {},
   "outputs": [
    {
     "data": {
      "text/plain": [
       "<xarray.Dataset>\n",
       "Dimensions:  ()\n",
       "Data variables:\n",
       "    pr       float64 30.5\n",
       "    tmin     float64 12.33\n",
       "    tmax     float64 22.57"
      ]
     },
     "execution_count": 20,
     "metadata": {},
     "output_type": "execute_result"
    }
   ],
   "source": [
    "irvine_ds_tmean = irvine_ds.mean(dim='month')\n",
    "irvine_ds_tmean"
   ]
  },
  {
   "cell_type": "markdown",
   "metadata": {},
   "source": [
    "**Create a NetCDF file using the ```.to_netcdf()``` syntax.**  \n",
    "Specify an unlimited dimension (typically time) using the ```unlimited_dims``` keyword.  This creates a record dimension, which is useful for tools like NCO."
   ]
  },
  {
   "cell_type": "code",
   "execution_count": 21,
   "metadata": {},
   "outputs": [],
   "source": [
    "irvine_ds.to_netcdf('example_irvine_precip_tmin_tmax.nc', unlimited_dims=['month'])"
   ]
  },
  {
   "cell_type": "markdown",
   "metadata": {},
   "source": [
    "# Key points\n",
    "\n",
    "* **Create an xarray ```DataArray``` (one variable with dims, coords, attributes, etc.) via:**\n",
    "\n",
    "\n",
    "    precip_da = xr.DataArray(precip_series, name='precip',\n",
    "                             coords={'month':month_names},\n",
    "                             dims=('month'))\n",
    "\n",
    "* Note ```precip_series``` is a pandas ```Series``` object\n",
    "* Many of the familiar indexing syntax works on these data arrays\n",
    "\n",
    "\n",
    "* **Create an xarray ```DataSet``` (one or more variables within a NetCDF-like file) using a dictionary syntax:**\n",
    "\n",
    "\n",
    "    irvine_ds = xr.Dataset({'precip':precip_da,\n",
    "                            'tmin':tmin_da,\n",
    "                            'tmax':tmax_da })\n",
    "\n",
    "* Familiar indexing works on these data sets, too.  [It's worth reading the documentation on this](http://xarray.pydata.org/en/stable/indexing.html).\n",
    "* Save the data set as a netcdf file using the ```dataset.to_netcdf()``` syntax"
   ]
  }
 ],
 "metadata": {
  "kernelspec": {
   "display_name": "Python 3",
   "language": "python",
   "name": "python3"
  },
  "language_info": {
   "codemirror_mode": {
    "name": "ipython",
    "version": 3
   },
   "file_extension": ".py",
   "mimetype": "text/x-python",
   "name": "python",
   "nbconvert_exporter": "python",
   "pygments_lexer": "ipython3",
   "version": "3.6.8"
  }
 },
 "nbformat": 4,
 "nbformat_minor": 2
}
