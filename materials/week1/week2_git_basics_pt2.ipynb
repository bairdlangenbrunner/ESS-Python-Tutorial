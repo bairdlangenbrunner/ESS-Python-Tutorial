{
 "cells": [
  {
   "cell_type": "markdown",
   "metadata": {},
   "source": [
    "# What we covered last class\n",
    "\n",
    "* Why use version control?\n",
    "* Configuring Git on local machine\n",
    "* Creating a repository\n",
    "* Adding files and committing changes\n"
   ]
  },
  {
   "cell_type": "markdown",
   "metadata": {},
   "source": [
    "# Let's add a file into that repository\n",
    "\n",
    "1) Using your favorite editor, create a file called Analyze_timeseries.py (you can leave it blank or type in a few lines)\n",
    "\n",
    "2) Then check the status of your repository again.\n",
    "\n",
    "What do you get?\n",
    "\n",
    "3) You should see Analyze_timeseries.py as an untracked file\n",
    "\n",
    "4) You can allow Git to track it by typing\n",
    "\n",
    "`git add Analyze_timeseries.py`\n",
    "\n",
    "5) Check the git status again. What do you get?\n",
    "\n",
    "6) Even though git is tracking Analyze_timeseries.py, it still hasn't recorded the changes. To record the changes, you need to type:\n",
    "\n",
    "`git commit -m \"Add script to analyze timeseries\"`\n",
    "\n",
    "Git has taken the files added by 'git add' and saved those changes into a commit that you can now go back to at a later time. You will be given a short unique identifier that IDs your commit. "
   ]
  },
  {
   "cell_type": "markdown",
   "metadata": {},
   "source": [
    "# Let's add another file and modify it\n",
    "\n",
    "1) Follow similar steps above to create another file Analyze_maps.py. Also modify Analyze_timeseries.py. Add both files to git and commit the changes. \n",
    "\n",
    "2) After doing the above, type \n",
    "\n",
    "`git log`\n",
    "\n",
    "You should get a list of the last two commits. (To keep things more compact, you can also use `git log --oneline`)\n",
    "\n",
    "3) Now what if you work extensively on a script and want to see what's different between your new version and what has already been committed? Let's see how by first modifying Analyze_maps.py. For example, add another line. Then type \n",
    "\n",
    "`git diff` \n",
    "\n",
    "This will give you the changes to the scripts that exist. Let's now add and commit those changes. "
   ]
  },
  {
   "cell_type": "markdown",
   "metadata": {},
   "source": [
    "# How do we go back to a previous version of a file?\n",
    "\n",
    "Say we make the mistake of deleting everything in Analyze_timeseries.py. How do we go back to the previous version?\n",
    "\n",
    "1) First, delete what's written in Analyze_timeseries.py and save those changes. Without git, we would be in a bind now, because we've mistakenly saved those changes. However, we can go back to previous commits by using the `git checkout` commad. \n",
    "\n",
    "2) With `git log`, find the identifier for the last commit, then recover that version of the file by typing\n",
    "\n",
    "`git checkout IDENTIFER Analyze_timeseries.py`\n",
    "\n",
    "A shorthand for the last commit is to use \n",
    "\n",
    "`git checkout HEAD Analyze_timeseries.py`\n",
    "\n",
    "Note not to forget the file name after the identifier."
   ]
  },
  {
   "cell_type": "markdown",
   "metadata": {},
   "source": [
    "# Connecting with remote repositories\n",
    "\n",
    "Now we'd want to make a remote repository where you can work on the same script. \n",
    "\n",
    "1) Create a GitHub account, preferably using the email address used to setup your local Git.\n",
    "\n",
    "2) From your command line in the Earth_files repository, create a remote repository on GitHub.\n",
    "\n",
    "`git remote add origin https://github.com/YourUserName/Earth_files.git`\n",
    "\n",
    "\n",
    "3) Check to see if the remote repository is connected to the current local repository with \n",
    "\n",
    "`git remote -v`\n",
    "\n",
    "3) Push your local repository to GitHub.\n",
    "\n",
    "`git push -u origin master`\n",
    "\n",
    "4) You can pull changes from the remote repository using the following command\n",
    "\n",
    "`git pull origin master`\n",
    "\n",
    "5) Refresh your GitHub account to see if your repository exists online. \n",
    "\n",
    "6) Now, if you haven't done so beforehand, let's pull the Python workshop tutorials from GitHub using \n",
    "\n",
    "`git clone`"
   ]
  },
  {
   "cell_type": "markdown",
   "metadata": {},
   "source": [
    "# Using Zenodo to upload and share code and data\n",
    "\n",
    "### Why share code and data?\n",
    "* It is good scientific practice to help make your methods clear and reproducible. \n",
    "* Many journals, such as JGR, are now asking authors to make their data available and there's a push to make code also available.\n",
    "* If you attach a DOI to your code and data, your data and code become citable, where you can get credit for the hard work of producing the code and analysis!\n",
    "\n",
    "### Quick easy steps\n",
    "\n",
    "* Prepare dataset and code\n",
    "* Define upload type (datasets, code, software,...)\n",
    "* Provide basic info (title, authors, description)\n",
    "* Set access and license\n",
    "* Puglish!\n",
    "\n",
    "### Learn more\n",
    "https://zenodo.org\n"
   ]
  },
  {
   "cell_type": "code",
   "execution_count": null,
   "metadata": {},
   "outputs": [],
   "source": []
  }
 ],
 "metadata": {
  "kernelspec": {
   "display_name": "Python 3",
   "language": "python",
   "name": "python3"
  },
  "language_info": {
   "codemirror_mode": {
    "name": "ipython",
    "version": 3
   },
   "file_extension": ".py",
   "mimetype": "text/x-python",
   "name": "python",
   "nbconvert_exporter": "python",
   "pygments_lexer": "ipython3",
   "version": "3.7.0"
  }
 },
 "nbformat": 4,
 "nbformat_minor": 2
}
