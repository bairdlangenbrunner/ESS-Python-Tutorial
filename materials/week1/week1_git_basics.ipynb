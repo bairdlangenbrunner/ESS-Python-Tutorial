{
 "cells": [
  {
   "cell_type": "markdown",
   "metadata": {},
   "source": [
    "# What we'll cover\n",
    "\n",
    "* Why use version control?\n",
    "* Setting up Git\n",
    "* Creating a repository\n",
    "* Adding and committing a new file"
   ]
  },
  {
   "cell_type": "markdown",
   "metadata": {},
   "source": [
    "# Why use version control?\n",
    "\n",
    "Version control\n",
    "\"Version control is a system that records changes to a file or set of files over time so that you can recall specific versions later.\" (from Git documentation at www.git-scm.com\n",
    "\n",
    "Use cases:\n",
    "* Tracking paper revisions in one document (ARM_paper_v1.docx, ARM_paper_v2.docx, ARM_paper_vsubmitted.docx, ARM_paper_v20181125.docx, ARM_paper_vMarkedits.docx,...)\n",
    "* Same with analysis scripts (Analyze_temperatures.py, Analyze_temperatures_test.py, Analyze_temperatures_v2.py, Analyze_temperatures_newest.py,...)\n",
    "* Working on the same code on multiple machines/locations\n",
    "* Backtracking to the version of the code where it worked...\n",
    "* Collaborating with colleagues on the same code\n"
   ]
  },
  {
   "cell_type": "markdown",
   "metadata": {},
   "source": [
    "# Setting up Git and getting started\n",
    "\n",
    "The following instructions are an abridged version of a Software Carpentry lesson on Git. If you want to delve in deeper check their website: http://swcarpentry.github.io/git-novice/\n",
    "\n",
    "1) Open up a terminal and use the following syntax to set up your username and useremail\n",
    "\n",
    "`git config --global user.name \"Firstname Lastname\"`\n",
    "\n",
    "`git config --global user.email \"NetID@uci.edu`\n",
    "\n",
    "The username and user name and email should be associated with your GitHub, BitBucket, or GitLab account. Note that if you associate a uci.edu email account with GitHub, you are automatically given a few number of private repositories.\n",
    "\n",
    "2) Set your favorite text editor for git\n",
    "\n",
    "E.g.\n",
    "\n",
    "Vim\n",
    "`git config --global core.editor \"vim\"`\n",
    "\n",
    "Emacs\n",
    "`git config --global core.editor \"emacs\"`\n",
    "\n",
    "Sublime text\n",
    "`git config --global core.editor \"/Applications/Sublime\\ Text.app/Contents/SharedSupport/bin/subl -n -w\"`\n",
    "\n",
    "Gedit\n",
    "`git config --global core.editor \"gedit --wait --new-window\"`\n",
    "\n",
    "See more options: \n",
    "http://swcarpentry.github.io/git-novice/02-setup/index.html\n"
   ]
  },
  {
   "cell_type": "markdown",
   "metadata": {},
   "source": [
    "Now type in \n",
    "\n",
    "`git config --list`\n",
    "\n",
    "You should see your settings.\n",
    "\n",
    "And if you forget certain commands, use\n",
    "\n",
    "`git config --help`\n"
   ]
  },
  {
   "cell_type": "markdown",
   "metadata": {},
   "source": [
    "# Let's create a repository\n",
    "\n",
    "1) Make a new directory in the Week X materials, calling it Earth_files (mkdir ./Earth_files)\n",
    "\n",
    "2) Change directory to Earth_files (cd Earth_files)\n",
    "\n",
    "3) Then initiate a new repository in Earth_files by typing\n",
    "\n",
    "`git init`\n",
    "\n",
    "4) Now try typing the following to get the status of your repository\n",
    "\n",
    "`git status`\n",
    "\n",
    "What do you get?"
   ]
  },
  {
   "cell_type": "markdown",
   "metadata": {},
   "source": [
    "# Let's add a file into that repository\n",
    "\n",
    "1) Using your favorite editor, create a file called Analyze_timeseries.py (you can leave it blank or type in a few lines)\n",
    "\n",
    "2) Then check the status of your repository again.\n",
    "\n",
    "What do you get?\n",
    "\n",
    "3) You should see Analyze_timeseries.py as an untracked file\n",
    "\n",
    "4) You can allow Git to track it by typing\n",
    "\n",
    "`git add Analyze_timeseries.py`\n",
    "\n",
    "5) Check the git status again. What do you get?\n",
    "\n",
    "6) Even though git is tracking Analyze_timeseries.py, it still hasn't recorded the changes. To record the changes, you need to type:\n",
    "\n",
    "`git commit -m \"Add script to analyze timeseries\"`\n",
    "\n",
    "Git has taken the files added by 'git add' and saved those changes into a commit that you can now go back to at a later time. You will be given a short unique identifier that IDs your commit. "
   ]
  },
  {
   "cell_type": "markdown",
   "metadata": {},
   "source": [
    "# Let's add another file and modify it\n",
    "\n",
    "1) Follow similar steps above to create another file Analyze_maps.py. Also modify Analyze_timeseries.py. Add both files to git and commit the changes. \n",
    "\n",
    "2) After doing the above, type \n",
    "\n",
    "`git log`\n",
    "\n",
    "You should get a list of the last two commits. (To keep things more compact, you can also use `git log --oneline`)\n",
    "\n",
    "3) Now what if you work extensively on a script and want to see what's different between your new version and what has already been committed? Let's see how by first modifying Analyze_maps.py. For example, add another line. Then type \n",
    "\n",
    "`git diff` \n",
    "\n",
    "This will give you the changes to the scripts that exist. Let's now add and commit those changes. "
   ]
  },
  {
   "cell_type": "code",
   "execution_count": null,
   "metadata": {},
   "outputs": [],
   "source": []
  }
 ],
 "metadata": {
  "kernelspec": {
   "display_name": "Python 3",
   "language": "python",
   "name": "python3"
  },
  "language_info": {
   "codemirror_mode": {
    "name": "ipython",
    "version": 3
   },
   "file_extension": ".py",
   "mimetype": "text/x-python",
   "name": "python",
   "nbconvert_exporter": "python",
   "pygments_lexer": "ipython3",
   "version": "3.6.4"
  }
 },
 "nbformat": 4,
 "nbformat_minor": 2
}
