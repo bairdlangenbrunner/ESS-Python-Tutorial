{
 "cells": [
  {
   "cell_type": "markdown",
   "metadata": {},
   "source": [
    "# Quick intro to Jupyter Notebook\n",
    "*originally by Stephan Rasp, modified by Baird*\n",
    "\n",
    "Jupyter notebooks are a noice tool for data analysis and code development.  \n",
    "This notebook explains the essentials to get you up and running."
   ]
  },
  {
   "cell_type": "markdown",
   "metadata": {},
   "source": [
    "---"
   ]
  },
  {
   "cell_type": "markdown",
   "metadata": {},
   "source": [
    "# Installation\n",
    "\n",
    "We will assume that you are using Anaconda.  To install Jupyter type:\n",
    "\n",
    "    conda install jupyter\n",
    "\n",
    "### Notebook extensions\n",
    "\n",
    "You can add extended functionalities by installing notebook extensions:\n",
    "\n",
    "    conda install -c conda-forge jupyter_contrib_nbextensions\n",
    "\n",
    "This will add a tab to your dashboard, from where you can select the extension.  These include:\n",
    "* Collapsible heading extensions\n",
    "* Table of contents extensions\n",
    "* Cell runtime information,\n",
    "* ... and much more\n",
    "\n",
    "### Notebook themes\n",
    "\n",
    "For changing the look of the notebook, you want to run `pip install jupyterthemes`. This will allow you to select different themes. For more information visit: https://github.com/dunovank/jupyter-themes"
   ]
  },
  {
   "cell_type": "markdown",
   "metadata": {},
   "source": [
    "---"
   ]
  },
  {
   "cell_type": "markdown",
   "metadata": {},
   "source": [
    "# Basic usage\n",
    "\n",
    "To start a Jupyter notebook, type:\n",
    "\n",
    "    jupyter notebook\n",
    "\n",
    "in the command line. If you do this locally (e.g., on your laptop) this should automatically open up a browser window with the dashboard. We'll cover running a notebook remotely below.\n",
    "\n",
    "On the dashboard you can see all files in your current directory. (Note that you can click on any file and edit it.) Jupyter notebook files end in `.ipynb`. To create a new notebook, click on `New` and select a Python kernel. Now a new tab will appear with your empty notebook.\n",
    "\n",
    "### Cells\n",
    "\n",
    "Jupyter notebooks have cells such as this one, and there are different types. The two most useful ones are code cells and markdown cells.  \n",
    "This here is a markdown cell, which allows us to write formatted text using the \"markdown\" language. For a quick introduction, see here: https://github.com/adam-p/markdown-here/wiki/Markdown-Cheatsheet\n",
    "\n",
    "Note that in markdown you can also type Latex:\n",
    "\n",
    "$x = \\frac{a}{b}$\n",
    "\n",
    "To switch the cell type, either use the toolbar above or press `y` for code or `m` for markdown in command mode, which we will get to now.\n",
    "\n",
    "### Modes\n",
    "\n",
    "To navigate Jupyter notebooks there are two modes:\n",
    "1. Command mode, which you can enter by pressing `esc` (cells have a BLUE border)\n",
    "  * Lets you arrow up/down across cells, delete them, etc.\n",
    "\n",
    "\n",
    "2. Edit mode which you can enter by pressing `enter`/`return` (cells have a GREEN border)\n",
    "  * Lets you edit the text within a cell\n",
    "\n",
    "### Keyboard shortcuts!\n",
    "\n",
    "If you get confused about all the keys just press `h` in command mode (may need to press `esc` to do this).  \n",
    "Of course, you can also use the mouse and the toolbar. \n",
    "\n",
    "### Executing a cell\n",
    "\n",
    "To execute a cell, press `shift + enter`. This will run the code or render the text and jump to the next cell.  \n",
    "If you would like to insert a cell below, type `alt + enter`.\n",
    "\n",
    "### Closing a notebook\n",
    "\n",
    "1. Save any changes, close the window\n",
    "2. Back at the dashboard, choose the \"Running\" tab, and shut down the notebook\n",
    "\n",
    "### Closing an entire jupyter notebook session\n",
    "\n",
    "Go to the terminal shell and type `ctrl + c` TWICE"
   ]
  },
  {
   "cell_type": "markdown",
   "metadata": {},
   "source": [
    "---"
   ]
  },
  {
   "cell_type": "markdown",
   "metadata": {},
   "source": [
    "Now let's start by actually writing some code."
   ]
  },
  {
   "cell_type": "code",
   "execution_count": 1,
   "metadata": {
    "ExecuteTime": {
     "end_time": "2018-11-26T21:43:03.968740Z",
     "start_time": "2018-11-26T21:43:03.230359Z"
    }
   },
   "outputs": [],
   "source": [
    "# Import modules just as you would in a regular Python script\n",
    "import numpy as np\n",
    "import matplotlib.pyplot as plt"
   ]
  },
  {
   "cell_type": "code",
   "execution_count": 2,
   "metadata": {
    "ExecuteTime": {
     "end_time": "2018-11-26T21:43:03.976484Z",
     "start_time": "2018-11-26T21:43:03.972677Z"
    }
   },
   "outputs": [],
   "source": [
    "# Assign variables\n",
    "a = 10"
   ]
  },
  {
   "cell_type": "code",
   "execution_count": 3,
   "metadata": {
    "ExecuteTime": {
     "end_time": "2018-11-26T21:43:03.990334Z",
     "start_time": "2018-11-26T21:43:03.981640Z"
    }
   },
   "outputs": [
    {
     "data": {
      "text/plain": [
       "10"
      ]
     },
     "execution_count": 3,
     "metadata": {},
     "output_type": "execute_result"
    }
   ],
   "source": [
    "# The value of the last object in the cell will be displayed\n",
    "b = 2\n",
    "a"
   ]
  },
  {
   "cell_type": "code",
   "execution_count": 4,
   "metadata": {
    "ExecuteTime": {
     "end_time": "2018-11-26T21:43:04.013608Z",
     "start_time": "2018-11-26T21:43:04.000207Z"
    }
   },
   "outputs": [
    {
     "data": {
      "text/plain": [
       "12"
      ]
     },
     "execution_count": 4,
     "metadata": {},
     "output_type": "execute_result"
    }
   ],
   "source": [
    "a + b"
   ]
  },
  {
   "cell_type": "markdown",
   "metadata": {},
   "source": [
    "*You do not have to work chronologically. You can always edit cells above.*  \n",
    "**But pay attention:**  \n",
    "This means that the notebook might throw an error when executed in chronological order after restarting the kernel."
   ]
  },
  {
   "cell_type": "markdown",
   "metadata": {},
   "source": [
    "**Get function docs**  \n",
    "Next, create a basic plot and also note a super-handy functionality of the notebook:  \n",
    "* When using a function and pressing `shift + tab` when the cursor is inside the function parenthesis, it will bring up the list of arguments.  \n",
    "Pressing it twice will bring up the doc string.\n",
    "\n",
    "Similarly, executing `?function_name` will bring up the doc string in a separate window. `??function_name` will bring up the source code."
   ]
  },
  {
   "cell_type": "code",
   "execution_count": 5,
   "metadata": {
    "ExecuteTime": {
     "end_time": "2018-11-26T21:43:04.195390Z",
     "start_time": "2018-11-26T21:43:04.018640Z"
    }
   },
   "outputs": [
    {
     "data": {
      "image/png": "[encoded data removed]",
      "text/plain": [
       "<Figure size 432x288 with 1 Axes>"
      ]
     },
     "metadata": {
      "needs_background": "light"
     },
     "output_type": "display_data"
    }
   ],
   "source": [
    "plt.hist(np.random.normal(size=1000))\n",
    "plt.show()"
   ]
  },
  {
   "cell_type": "code",
   "execution_count": 6,
   "metadata": {
    "ExecuteTime": {
     "end_time": "2018-11-26T21:43:04.275024Z",
     "start_time": "2018-11-26T21:43:04.197999Z"
    }
   },
   "outputs": [],
   "source": [
    "?plt.hist"
   ]
  },
  {
   "cell_type": "code",
   "execution_count": 7,
   "metadata": {
    "ExecuteTime": {
     "end_time": "2018-11-26T21:43:04.296533Z",
     "start_time": "2018-11-26T21:43:04.278367Z"
    }
   },
   "outputs": [],
   "source": [
    "??plt.hist"
   ]
  },
  {
   "cell_type": "markdown",
   "metadata": {
    "collapsed": true
   },
   "source": [
    "# Sharing a notebook\n",
    "\n",
    "### GitHub\n",
    "\n",
    "If the notebook is in a GitHub repository (which it probably should be!), GitHub will simply render the notebook for you like this: https://github.com/raspstephan/ESS-Python-Tutorial/blob/master/notebooks/jupyter-intro.ipynb\n",
    "\n",
    "### NBViewer\n",
    "\n",
    "Another option is to copy the GitHub URL to http://nbviewer.jupyter.org/. \n",
    "\n",
    "### As HTML or PDF\n",
    "\n",
    "You can also export the notebook to HTML or PDF by typing `jupyter nbconvert --to FORMAT notebook.ipynb` where `FORMAT` can be `pdf`, `html` or many others.\n",
    "\n",
    "More information here: https://ipython.org/ipython-doc/3/notebook/nbconvert.html"
   ]
  },
  {
   "cell_type": "markdown",
   "metadata": {},
   "source": [
    "---"
   ]
  },
  {
   "cell_type": "markdown",
   "metadata": {},
   "source": [
    "# Remote setup\n",
    "How to run jupyter notebook remotely\n",
    "\n",
    "### Port tunnel\n",
    "\n",
    "If you want to run Jupyter on a remote computer (e.g. greenplanet), you need to create a port tunnel in order to open the notebook locally in the browser. The command to do this is:\n",
    "\n",
    "`ssh -L localhost:8888:localhost:8888 user@gplogin1.ps.uci.edu`\n",
    "\n",
    "This will create a tunnel for port 8888. If you do your actual computations on a *different* node, you can do the same thing to create a tunnel to that node:\n",
    "\n",
    "`ssh -L localhost:8888:localhost:8888 c-3-39`\n",
    "\n",
    "\n",
    "Now locally in your browser, go to `localhost:8888`. Most probably it will ask you for a token. You will find the token in the terminal where Jupyter is running, where it will look something like this:\n",
    "\n",
    "` http://localhost:8888/?token=940f1a436d91bde5ef15e3640dd66bd7d3f724a68513c99f`\n",
    "\n",
    "Just copy and paste the token after `=` and you should be good to go.\n",
    "\n",
    "### Screen\n",
    "\n",
    "Since remote connections die sometimes, screen is very handy.  It lets you run processes remotely, which will continue even after your connection has timed out. \n",
    "\n",
    "To start a screen session, type `screen`. To execute screen commands, you need to press `ctrl + a` followed by a command. `c` will create a new window. `n` and `p` will go to the next and previous window. `k` will kill the window. Finally, `d` will detach from the window.  \n",
    "\n",
    "To log back into a screen session after detaching or having been disconnected, type `screen -r`.\n",
    "\n",
    "Here is more info: http://aperiodic.net/screen/quick_reference\n",
    "\n",
    "### Mounting\n",
    "\n",
    "Finally, to edit remote files in your preferred editor (PyCharm, VSC, etc.), you might want to mount a remote directory. For Linux/Mac you can use sshfs. On the Mac you have to install OSXFuse.\n",
    "\n",
    "Here is a link outlining the process: https://blogs.harvard.edu/acts/2013/11/08/the-newbie-how-to-set-up-sshfs-on-mac-os-x/\n",
    "\n",
    "Then you can mount a remote directory: `sshfs USERNAME@gplogin1.ps.uci.edu:/export/home/USERNAME/ greenplanet_home/`"
   ]
  }
 ],
 "metadata": {
  "kernelspec": {
   "display_name": "Python 3",
   "language": "python",
   "name": "python3"
  },
  "language_info": {
   "codemirror_mode": {
    "name": "ipython",
    "version": 3
   },
   "file_extension": ".py",
   "mimetype": "text/x-python",
   "name": "python",
   "nbconvert_exporter": "python",
   "pygments_lexer": "ipython3",
   "version": "3.7.0"
  },
  "toc": {
   "nav_menu": {},
   "number_sections": true,
   "sideBar": false,
   "skip_h1_title": true,
   "title_cell": "Table of Contents",
   "title_sidebar": "Contents",
   "toc_cell": false,
   "toc_position": {},
   "toc_section_display": "block",
   "toc_window_display": false
  }
 },
 "nbformat": 4,
 "nbformat_minor": 2
}
