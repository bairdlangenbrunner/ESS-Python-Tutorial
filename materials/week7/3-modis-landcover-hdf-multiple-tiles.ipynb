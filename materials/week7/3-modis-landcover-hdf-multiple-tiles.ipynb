{
 "cells": [
  {
   "cell_type": "markdown",
   "metadata": {},
   "source": [
    "# Plot land cover for 2001 from the MODIS MCD12Q1.006 satellite data set"
   ]
  },
  {
   "cell_type": "code",
   "execution_count": 22,
   "metadata": {
    "ExecuteTime": {
     "end_time": "2018-07-09T19:13:43.592470Z",
     "start_time": "2018-07-09T19:13:42.002263Z"
    }
   },
   "outputs": [],
   "source": [
    "import numpy as np\n",
    "import gdal\n",
    "import osr\n",
    "import glob # to inspect files in a folder\n",
    "import re # for regular expression matching\n",
    "\n",
    "import cartopy\n",
    "import matplotlib\n",
    "import matplotlib.pyplot as plt\n",
    "\n",
    "import matplotlib.cm as mcm"
   ]
  },
  {
   "cell_type": "markdown",
   "metadata": {},
   "source": [
    "**List all the files in the proper tile arrangement:**"
   ]
  },
  {
   "cell_type": "code",
   "execution_count": 15,
   "metadata": {
    "ExecuteTime": {
     "end_time": "2018-07-09T19:13:43.751166Z",
     "start_time": "2018-07-09T19:13:43.594886Z"
    }
   },
   "outputs": [
    {
     "name": "stdout",
     "output_type": "stream",
     "text": [
      "../data/satellite-data/modis-landcover-MCD12Q1.006/MCD12Q1.A2001001.h28v08.006.2018053232525.hdf\r\n",
      "../data/satellite-data/modis-landcover-MCD12Q1.006/MCD12Q1.A2001001.h28v09.006.2018053232500.hdf\r\n",
      "../data/satellite-data/modis-landcover-MCD12Q1.006/MCD12Q1.A2001001.h28v10.006.2018053232813.hdf\r\n",
      "../data/satellite-data/modis-landcover-MCD12Q1.006/MCD12Q1.A2001001.h29v08.006.2018054000010.hdf\r\n",
      "../data/satellite-data/modis-landcover-MCD12Q1.006/MCD12Q1.A2001001.h29v09.006.2018054000114.hdf\r\n",
      "../data/satellite-data/modis-landcover-MCD12Q1.006/MCD12Q1.A2001001.h29v10.006.2018054000142.hdf\r\n",
      "../data/satellite-data/modis-landcover-MCD12Q1.006/MCD12Q1.A2001001.h30v08.006.2018054000410.hdf\r\n",
      "../data/satellite-data/modis-landcover-MCD12Q1.006/MCD12Q1.A2001001.h30v09.006.2018054000412.hdf\r\n",
      "../data/satellite-data/modis-landcover-MCD12Q1.006/MCD12Q1.A2001001.h30v10.006.2018054000515.hdf\r\n",
      "../data/satellite-data/modis-landcover-MCD12Q1.006/MCD12Q1.A2001001.h31v08.006.2018054000742.hdf\r\n",
      "../data/satellite-data/modis-landcover-MCD12Q1.006/MCD12Q1.A2001001.h31v09.006.2018054000825.hdf\r\n",
      "../data/satellite-data/modis-landcover-MCD12Q1.006/MCD12Q1.A2001001.h31v10.006.2018054000804.hdf\r\n",
      "../data/satellite-data/modis-landcover-MCD12Q1.006/MCD12Q1.A2001001.h32v08.006.2018054001011.hdf\r\n",
      "../data/satellite-data/modis-landcover-MCD12Q1.006/MCD12Q1.A2001001.h32v09.006.2018054001332.hdf\r\n",
      "../data/satellite-data/modis-landcover-MCD12Q1.006/MCD12Q1.A2001001.h32v10.006.2018054001355.hdf\r\n"
     ]
    }
   ],
   "source": [
    "!ls ../data/satellite-data/modis-landcover-MCD12Q1.006/*h{28,29,30,31,32}*v{08,09,10}*.hdf"
   ]
  },
  {
   "cell_type": "markdown",
   "metadata": {},
   "source": [
    "**Create a list of the tiles of interest (here, focusing on Indonesia), then optn them with ```gdal```:**"
   ]
  },
  {
   "cell_type": "code",
   "execution_count": 26,
   "metadata": {
    "ExecuteTime": {
     "end_time": "2018-07-09T19:13:43.905286Z",
     "start_time": "2018-07-09T19:13:43.896843Z"
    }
   },
   "outputs": [],
   "source": [
    "file_list_all = sorted(glob.glob('../data/satellite-data/modis-landcover-MCD12Q1.006/*2001001*.hdf'))\n",
    "reg_exp = re.compile('.*h(27|28|29|30|31|32)v(08|09|10)(.*\\.hdf)$')\n",
    "file_list = [filename for filename in file_list_all if re.match(reg_exp, filename)]\n",
    "gdal_datasets = [gdal.Open(f) for f in file_list]\n",
    "gdal_lc_type1 = [ds.GetSubDatasets()[0][0] for ds in gdal_datasets]"
   ]
  },
  {
   "cell_type": "markdown",
   "metadata": {},
   "source": [
    "**Use a VRT (virtual dataset) that tells Python how to mosaic the inputs.**  \n",
    "\n",
    "* This can be done using the ```gdal``` command line interface\n",
    "* From the folder where your HDF files are stored, type:\n",
    "\n",
    "\n",
    "    gdalbuildvrt gdal_landcover_mosaic.vrt *.hdf\n",
    "\n",
    "The output will be a ```.vrt``` file that instructs Python's ```gdal``` package how to tile the images together."
   ]
  },
  {
   "cell_type": "code",
   "execution_count": 27,
   "metadata": {
    "ExecuteTime": {
     "end_time": "2018-07-09T19:13:45.382584Z",
     "start_time": "2018-07-09T19:13:43.908423Z"
    }
   },
   "outputs": [],
   "source": [
    "lc_mosaic = gdal.BuildVRT('../data/satellite-data/modis-landcover-MCD12Q1.006/gdal_landcover_mosaic.vrt', gdal_lc_type1)\n",
    "lc_mosaic_data = np.array(lc_mosaic.ReadAsArray(), dtype=np.float)\n",
    "lc_mosaic_data_2001 = np.copy(lc_mosaic_data)"
   ]
  },
  {
   "cell_type": "markdown",
   "metadata": {},
   "source": [
    "**Now the mosaic exists.  Get the geographic transform information using the ```.GetGeoTransform()``` method as before:**"
   ]
  },
  {
   "cell_type": "code",
   "execution_count": 28,
   "metadata": {
    "ExecuteTime": {
     "end_time": "2018-07-09T19:13:45.406306Z",
     "start_time": "2018-07-09T19:13:45.385323Z"
    }
   },
   "outputs": [],
   "source": [
    "lc_geotrans = lc_mosaic.GetGeoTransform()"
   ]
  },
  {
   "cell_type": "markdown",
   "metadata": {},
   "source": [
    "**Use the geotransform info to create a data_extent tuple for use in ```cartopy``` plotting syntax:**"
   ]
  },
  {
   "cell_type": "code",
   "execution_count": 29,
   "metadata": {
    "ExecuteTime": {
     "end_time": "2018-07-09T19:13:45.419448Z",
     "start_time": "2018-07-09T19:13:45.413827Z"
    }
   },
   "outputs": [],
   "source": [
    "data_extent = (lc_geotrans[0], \\\n",
    "               lc_geotrans[0] + lc_mosaic.RasterXSize*lc_geotrans[1], \\\n",
    "               lc_geotrans[3] + lc_mosaic.RasterYSize*lc_geotrans[5], \\\n",
    "               lc_geotrans[3])"
   ]
  },
  {
   "cell_type": "markdown",
   "metadata": {},
   "source": [
    "**Now prepare logical color maps based on the MODIS land cover type.**  \n",
    "Info available here:  https://lpdaac.usgs.gov/dataset_discovery/modis/modis_products_table/mcd12q1_v006"
   ]
  },
  {
   "cell_type": "code",
   "execution_count": 31,
   "metadata": {},
   "outputs": [],
   "source": [
    "modis_type_dict = {}\n",
    "modis_type_dict['1'] = 'Evergreen needleleaf forest'\n",
    "modis_type_dict['2'] = 'Evergreen broadleaf forest'\n",
    "modis_type_dict['3'] = 'Deciduous needleleaf forest'\n",
    "modis_type_dict['4'] = 'Deciduous broadleaf forest'\n",
    "modis_type_dict['5'] = 'Mixed forest'\n",
    "modis_type_dict['6'] = 'Closed shrublands'\n",
    "modis_type_dict['7'] = 'Open shrublands'\n",
    "modis_type_dict['8'] = 'Woody savannas'\n",
    "modis_type_dict['9'] = 'Savannas'\n",
    "modis_type_dict['10'] = 'Grasslands'\n",
    "modis_type_dict['11'] = 'Permanent wetlands'\n",
    "modis_type_dict['12'] = 'Croplands'\n",
    "modis_type_dict['13'] = 'Urban and built-up'\n",
    "modis_type_dict['14'] = 'Cropland/natural veg. mosaic'\n",
    "modis_type_dict['15'] = 'Snow and ice'\n",
    "modis_type_dict['16'] = 'Barren or sparsely vegetated'\n",
    "modis_type_dict['17'] = 'Water'\n",
    "#modis_type_dict['255'] = 'Fill Value'"
   ]
  },
  {
   "cell_type": "markdown",
   "metadata": {},
   "source": [
    "**Create a list of the numbers and corresponding names of the land use categories:**"
   ]
  },
  {
   "cell_type": "code",
   "execution_count": 34,
   "metadata": {},
   "outputs": [],
   "source": [
    "type_numbers = np.arange(1,18,dtype=np.int)\n",
    "type_name = [modis_type_dict[str(i)] for i in type_numbers]"
   ]
  },
  {
   "cell_type": "markdown",
   "metadata": {},
   "source": [
    "**Pick out gradients "
   ]
  },
  {
   "cell_type": "code",
   "execution_count": 10,
   "metadata": {},
   "outputs": [],
   "source": [
    "human_cmap = mcm.YlOrRd_r #Purples\n",
    "water_cmap = mcm.Blues\n",
    "veg_cmap = mcm.Greens_r\n",
    "shrub_cmap = mcm.pink #YlOrBr\n",
    "\n",
    "svals = np.linspace(0.2,0.85,5)\n",
    "vvals = np.linspace(0.2,0.85,5) # for vegetation categories\n",
    "hvals = [0.25,0.5,0.75] # for human categories\n",
    "\n",
    "colors_list = [veg_cmap(vvals[0]),veg_cmap(vvals[1]),veg_cmap(vvals[2]),veg_cmap(vvals[3]),veg_cmap(vvals[4]),\n",
    "               shrub_cmap(svals[0]),shrub_cmap(svals[1]),shrub_cmap(svals[2]),shrub_cmap(svals[3]),shrub_cmap(svals[4]),\n",
    "               water_cmap(0.5),\n",
    "               human_cmap(hvals[0]),human_cmap(hvals[1]),human_cmap(hvals[2]),\n",
    "               '0.7','0.9',water_cmap(0.75)]\n",
    "\n",
    "categorical_cmap = matplotlib.colors.ListedColormap(colors_list, name='None')\n",
    "\n",
    "norm = matplotlib.colors.BoundaryNorm(np.arange(type_numbers.min()-0.5,type_numbers.max()+0.5+1,1),\\\n",
    "                                                   categorical_cmap.N)"
   ]
  },
  {
   "cell_type": "markdown",
   "metadata": {},
   "source": [
    "**Create a practice plot to see if our color bar works:**"
   ]
  },
  {
   "cell_type": "code",
   "execution_count": 35,
   "metadata": {},
   "outputs": [],
   "source": [
    "plot_array = np.random.randint(low=1, high=17, size=(10,10))"
   ]
  },
  {
   "cell_type": "code",
   "execution_count": 36,
   "metadata": {},
   "outputs": [
    {
     "data": {
      "image/png": "[encoded data removed]",
      "text/plain": [
       "<Figure size 432x288 with 2 Axes>"
      ]
     },
     "metadata": {
      "needs_background": "light"
     },
     "output_type": "display_data"
    }
   ],
   "source": [
    "fontsize=12\n",
    "\n",
    "fig = plt.figure()\n",
    "\n",
    "ax = fig.add_subplot(111)\n",
    "\n",
    "landuse_map = ax.pcolormesh(plot_array, cmap=categorical_cmap, norm=norm, vmin=1, vmax=17)\n",
    "\n",
    "ax_pos = ax.get_position()\n",
    "cbar_ax = fig.add_axes([ax_pos.x1+0.025,ax_pos.y0,0.03,ax_pos.height])\n",
    "cbar = fig.colorbar(landuse_map, cax=cbar_ax, drawedges=True)\n",
    "cbar.dividers.set_color('0')\n",
    "cbar.dividers.set_linewidth(1)\n",
    "cbar.set_ticks(type_numbers)\n",
    "cbar.set_ticklabels(type_name)\n",
    "cbar.ax.tick_params(labelsize=fontsize, length=0)"
   ]
  },
  {
   "cell_type": "markdown",
   "metadata": {},
   "source": [
    "**Now use this color map on the original projection:**"
   ]
  },
  {
   "cell_type": "code",
   "execution_count": 37,
   "metadata": {},
   "outputs": [],
   "source": [
    "field = lc_mosaic_data_2001\n",
    "field[field==255] = np.nan"
   ]
  },
  {
   "cell_type": "code",
   "execution_count": null,
   "metadata": {
    "ExecuteTime": {
     "end_time": "2018-07-09T19:13:50.747243Z",
     "start_time": "2018-07-09T19:13:45.424900Z"
    }
   },
   "outputs": [],
   "source": [
    "modis_globe = cartopy.crs.Globe(datum='WGS84', ellipse='sphere', semimajor_axis=6371007.181)\n",
    "map_proj = cartopy.crs.Sinusoidal(central_longitude=0, false_northing=0, false_easting=0, globe=modis_globe)\n",
    "data_proj = cartopy.crs.Sinusoidal(central_longitude=0, false_northing=0, false_easting=0, globe=modis_globe)\n",
    "geodetic_proj = cartopy.crs.Geodetic()\n",
    "\n",
    "fig = plt.figure(figsize=(8.5,5))\n",
    "ax = fig.add_subplot(111, projection=map_proj)\n",
    "image = ax.imshow(field, \\\n",
    "                  extent=data_extent, \\\n",
    "                  origin='upper', transform=data_proj, \\\n",
    "                  vmin=1,vmax=17,norm=norm,\\\n",
    "                  cmap=categorical_cmap)\n",
    "ax.coastlines(resolution='10m', color='0.1')\n",
    "\n",
    "#ax.set_global()\n",
    "\n",
    "ax_pos = ax.get_position()\n",
    "cbar_ax = fig.add_axes([ax_pos.x1+0.025,ax_pos.y0,0.03,ax_pos.height])\n",
    "cbar = fig.colorbar(image, cax=cbar_ax, drawedges=True)\n",
    "cbar.dividers.set_color('0')\n",
    "cbar.dividers.set_linewidth(1)\n",
    "cbar.set_ticks(type_numbers)\n",
    "cbar.set_ticklabels(type_name)\n",
    "cbar.ax.tick_params(labelsize=fontsize, length=0)"
   ]
  }
 ],
 "metadata": {
  "kernelspec": {
   "display_name": "Python 3",
   "language": "python",
   "name": "python3"
  },
  "language_info": {
   "codemirror_mode": {
    "name": "ipython",
    "version": 3
   },
   "file_extension": ".py",
   "mimetype": "text/x-python",
   "name": "python",
   "nbconvert_exporter": "python",
   "pygments_lexer": "ipython3",
   "version": "3.6.6"
  },
  "varInspector": {
   "cols": {
    "lenName": 16,
    "lenType": 16,
    "lenVar": 40
   },
   "kernels_config": {
    "python": {
     "delete_cmd_postfix": "",
     "delete_cmd_prefix": "del ",
     "library": "var_list.py",
     "varRefreshCmd": "print(var_dic_list())"
    },
    "r": {
     "delete_cmd_postfix": ") ",
     "delete_cmd_prefix": "rm(",
     "library": "var_list.r",
     "varRefreshCmd": "cat(var_dic_list()) "
    }
   },
   "types_to_exclude": [
    "module",
    "function",
    "builtin_function_or_method",
    "instance",
    "_Feature"
   ],
   "window_display": false
  }
 },
 "nbformat": 4,
 "nbformat_minor": 2
}
