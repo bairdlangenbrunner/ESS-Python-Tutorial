{
 "cells": [
  {
   "cell_type": "markdown",
   "metadata": {},
   "source": [
    "# *Copied from last week's first notebook\n",
    "\n",
    "# For this week:  Install tools necessary for PCA/EOF analysis\n",
    "\n",
    "**PCA** = principal component analysis  \n",
    "**EOF** analysis = empirical orthogonal function analysis\n",
    "\n",
    "# Do the steps below from your terminal shell\n",
    "\n",
    "---\n",
    "\n",
    "## Step 1:  Create a new environment\n",
    "\n",
    "Create a new ```conda``` environment called ```my-eofs```.  This is where we will install necessary packages:\n",
    "\n",
    "    conda create -n my-eofs\n",
    "\n",
    "Type ```y``` for yes\n",
    "\n",
    "---\n",
    "\n",
    "## Step 2:  Activate that environment\n",
    "\n",
    "Type either\n",
    "\n",
    "    source activate my-eofs\n",
    "\n",
    "or\n",
    "\n",
    "    conda activate my-eofs\n",
    "\n",
    "to activate that environment you just created.\n",
    "\n",
    "If steps 1 and 2 worked, then you can type\n",
    "\n",
    "    conda info --envs\n",
    "\n",
    "A list will come up, and an **asterisk** should show up next to ```my-eofs```.\n",
    "\n",
    "---\n",
    "\n",
    "## Step 3:  Install the necessary tools in the environment\n",
    "\n",
    "Copy and paste this line within that activated environment:\n",
    "\n",
    "    conda install -c conda-forge xarray netcdf4 pandas jupyter cartopy scikit-learn eofs\n",
    "\n",
    "This may take a while to calculate.  Eventually, it will prompt whether you'd like to install a whole bunch of new packages (the 5 above plus **all** of their dependencies).  Choose ```y``` for yes.\n",
    "\n",
    "---\n",
    "\n",
    "## Step 4:  *Still within* the activated environment\n",
    "\n",
    "Open up a Python session or a jupyter notebook:\n",
    "\n",
    "    python\n",
    "\n",
    "or\n",
    "\n",
    "    ipython\n",
    "\n",
    "or\n",
    "\n",
    "    jupyter notebook\n",
    "\n",
    "... and type in the python prompt or cell:\n",
    "\n",
    "    import cartopy, xarray, sklearn, eofs"
   ]
  },
  {
   "cell_type": "code",
   "execution_count": null,
   "metadata": {},
   "outputs": [],
   "source": [
    "import cartopy, xarray, sklearn, eofs"
   ]
  },
  {
   "cell_type": "code",
   "execution_count": null,
   "metadata": {},
   "outputs": [],
   "source": []
  }
 ],
 "metadata": {
  "kernelspec": {
   "display_name": "Python 3",
   "language": "python",
   "name": "python3"
  },
  "language_info": {
   "codemirror_mode": {
    "name": "ipython",
    "version": 3
   },
   "file_extension": ".py",
   "mimetype": "text/x-python",
   "name": "python",
   "nbconvert_exporter": "python",
   "pygments_lexer": "ipython3",
   "version": "3.7.2"
  }
 },
 "nbformat": 4,
 "nbformat_minor": 2
}
